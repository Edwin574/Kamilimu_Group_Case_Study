{
 "cells": [
  {
   "cell_type": "markdown",
   "id": "d6e221b4",
   "metadata": {},
   "source": [
    "All code here"
   ]
  }
 ],
 "metadata": {
  "language_info": {
   "name": "python"
  }
 },
 "nbformat": 4,
 "nbformat_minor": 5
}
