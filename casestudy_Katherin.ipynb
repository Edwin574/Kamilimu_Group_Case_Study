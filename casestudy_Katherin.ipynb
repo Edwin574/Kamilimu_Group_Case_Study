{
  "nbformat": 4,
  "nbformat_minor": 0,
  "metadata": {
    "colab": {
      "provenance": []
    },
    "kernelspec": {
      "name": "python3",
      "display_name": "Python 3"
    },
    "language_info": {
      "name": "python"
    }
  },
  "cells": [
    {
      "cell_type": "code",
      "execution_count": 23,
      "metadata": {
        "colab": {
          "base_uri": "https://localhost:8080/",
          "height": 397
        },
        "id": "GcWWPzRKNipE",
        "outputId": "ec7a9fca-47d1-483b-ec84-0ec9822d00e0"
      },
      "outputs": [
        {
          "output_type": "execute_result",
          "data": {
            "text/plain": [
              "                  time respondent_id  \\\n",
              "0  2024-02-10 22:46:03      AE9D9E66   \n",
              "1  2023-05-31 12:00:59      23D03AB0   \n",
              "2  2023-10-13 10:22:03      BBFDA35A   \n",
              "3  2024-01-07 19:36:03      86ABF063   \n",
              "4  2023-12-08 12:34:03      40101E61   \n",
              "\n",
              "                                                room            hospital  \\\n",
              "0                     Special Baby Care ward - Solar              kambia   \n",
              "1  Labour ward/Maternity - Grid w/Solar & Generat...  princess_christian   \n",
              "2              Main drug store - Solar w/Grid Backup            hastings   \n",
              "3        Operating theatre room  - Solar & Generator              bonthe   \n",
              "4                Emergency room  - Solar & Generator             masanga   \n",
              "\n",
              "      voltage  frequency                     power_source power_source_est  \n",
              "0  222.065064  49.970018                            Solar            solar  \n",
              "1  231.258840  50.205844  Grid w/Solar & Generator Backup             grid  \n",
              "2  214.992928  49.995000              Solar w/Grid Backup            solar  \n",
              "3  233.380481  50.000000                Solar & Generator            solar  \n",
              "4  238.330976  52.684263                Solar & Generator        generator  "
            ],
            "text/html": [
              "\n",
              "  <div id=\"df-4f7f7c2d-d8ff-4dc8-8e33-ec664129b701\" class=\"colab-df-container\">\n",
              "    <div>\n",
              "<style scoped>\n",
              "    .dataframe tbody tr th:only-of-type {\n",
              "        vertical-align: middle;\n",
              "    }\n",
              "\n",
              "    .dataframe tbody tr th {\n",
              "        vertical-align: top;\n",
              "    }\n",
              "\n",
              "    .dataframe thead th {\n",
              "        text-align: right;\n",
              "    }\n",
              "</style>\n",
              "<table border=\"1\" class=\"dataframe\">\n",
              "  <thead>\n",
              "    <tr style=\"text-align: right;\">\n",
              "      <th></th>\n",
              "      <th>time</th>\n",
              "      <th>respondent_id</th>\n",
              "      <th>room</th>\n",
              "      <th>hospital</th>\n",
              "      <th>voltage</th>\n",
              "      <th>frequency</th>\n",
              "      <th>power_source</th>\n",
              "      <th>power_source_est</th>\n",
              "    </tr>\n",
              "  </thead>\n",
              "  <tbody>\n",
              "    <tr>\n",
              "      <th>0</th>\n",
              "      <td>2024-02-10 22:46:03</td>\n",
              "      <td>AE9D9E66</td>\n",
              "      <td>Special Baby Care ward - Solar</td>\n",
              "      <td>kambia</td>\n",
              "      <td>222.065064</td>\n",
              "      <td>49.970018</td>\n",
              "      <td>Solar</td>\n",
              "      <td>solar</td>\n",
              "    </tr>\n",
              "    <tr>\n",
              "      <th>1</th>\n",
              "      <td>2023-05-31 12:00:59</td>\n",
              "      <td>23D03AB0</td>\n",
              "      <td>Labour ward/Maternity - Grid w/Solar &amp; Generat...</td>\n",
              "      <td>princess_christian</td>\n",
              "      <td>231.258840</td>\n",
              "      <td>50.205844</td>\n",
              "      <td>Grid w/Solar &amp; Generator Backup</td>\n",
              "      <td>grid</td>\n",
              "    </tr>\n",
              "    <tr>\n",
              "      <th>2</th>\n",
              "      <td>2023-10-13 10:22:03</td>\n",
              "      <td>BBFDA35A</td>\n",
              "      <td>Main drug store - Solar w/Grid Backup</td>\n",
              "      <td>hastings</td>\n",
              "      <td>214.992928</td>\n",
              "      <td>49.995000</td>\n",
              "      <td>Solar w/Grid Backup</td>\n",
              "      <td>solar</td>\n",
              "    </tr>\n",
              "    <tr>\n",
              "      <th>3</th>\n",
              "      <td>2024-01-07 19:36:03</td>\n",
              "      <td>86ABF063</td>\n",
              "      <td>Operating theatre room  - Solar &amp; Generator</td>\n",
              "      <td>bonthe</td>\n",
              "      <td>233.380481</td>\n",
              "      <td>50.000000</td>\n",
              "      <td>Solar &amp; Generator</td>\n",
              "      <td>solar</td>\n",
              "    </tr>\n",
              "    <tr>\n",
              "      <th>4</th>\n",
              "      <td>2023-12-08 12:34:03</td>\n",
              "      <td>40101E61</td>\n",
              "      <td>Emergency room  - Solar &amp; Generator</td>\n",
              "      <td>masanga</td>\n",
              "      <td>238.330976</td>\n",
              "      <td>52.684263</td>\n",
              "      <td>Solar &amp; Generator</td>\n",
              "      <td>generator</td>\n",
              "    </tr>\n",
              "  </tbody>\n",
              "</table>\n",
              "</div>\n",
              "    <div class=\"colab-df-buttons\">\n",
              "\n",
              "  <div class=\"colab-df-container\">\n",
              "    <button class=\"colab-df-convert\" onclick=\"convertToInteractive('df-4f7f7c2d-d8ff-4dc8-8e33-ec664129b701')\"\n",
              "            title=\"Convert this dataframe to an interactive table.\"\n",
              "            style=\"display:none;\">\n",
              "\n",
              "  <svg xmlns=\"http://www.w3.org/2000/svg\" height=\"24px\" viewBox=\"0 -960 960 960\">\n",
              "    <path d=\"M120-120v-720h720v720H120Zm60-500h600v-160H180v160Zm220 220h160v-160H400v160Zm0 220h160v-160H400v160ZM180-400h160v-160H180v160Zm440 0h160v-160H620v160ZM180-180h160v-160H180v160Zm440 0h160v-160H620v160Z\"/>\n",
              "  </svg>\n",
              "    </button>\n",
              "\n",
              "  <style>\n",
              "    .colab-df-container {\n",
              "      display:flex;\n",
              "      gap: 12px;\n",
              "    }\n",
              "\n",
              "    .colab-df-convert {\n",
              "      background-color: #E8F0FE;\n",
              "      border: none;\n",
              "      border-radius: 50%;\n",
              "      cursor: pointer;\n",
              "      display: none;\n",
              "      fill: #1967D2;\n",
              "      height: 32px;\n",
              "      padding: 0 0 0 0;\n",
              "      width: 32px;\n",
              "    }\n",
              "\n",
              "    .colab-df-convert:hover {\n",
              "      background-color: #E2EBFA;\n",
              "      box-shadow: 0px 1px 2px rgba(60, 64, 67, 0.3), 0px 1px 3px 1px rgba(60, 64, 67, 0.15);\n",
              "      fill: #174EA6;\n",
              "    }\n",
              "\n",
              "    .colab-df-buttons div {\n",
              "      margin-bottom: 4px;\n",
              "    }\n",
              "\n",
              "    [theme=dark] .colab-df-convert {\n",
              "      background-color: #3B4455;\n",
              "      fill: #D2E3FC;\n",
              "    }\n",
              "\n",
              "    [theme=dark] .colab-df-convert:hover {\n",
              "      background-color: #434B5C;\n",
              "      box-shadow: 0px 1px 3px 1px rgba(0, 0, 0, 0.15);\n",
              "      filter: drop-shadow(0px 1px 2px rgba(0, 0, 0, 0.3));\n",
              "      fill: #FFFFFF;\n",
              "    }\n",
              "  </style>\n",
              "\n",
              "    <script>\n",
              "      const buttonEl =\n",
              "        document.querySelector('#df-4f7f7c2d-d8ff-4dc8-8e33-ec664129b701 button.colab-df-convert');\n",
              "      buttonEl.style.display =\n",
              "        google.colab.kernel.accessAllowed ? 'block' : 'none';\n",
              "\n",
              "      async function convertToInteractive(key) {\n",
              "        const element = document.querySelector('#df-4f7f7c2d-d8ff-4dc8-8e33-ec664129b701');\n",
              "        const dataTable =\n",
              "          await google.colab.kernel.invokeFunction('convertToInteractive',\n",
              "                                                    [key], {});\n",
              "        if (!dataTable) return;\n",
              "\n",
              "        const docLinkHtml = 'Like what you see? Visit the ' +\n",
              "          '<a target=\"_blank\" href=https://colab.research.google.com/notebooks/data_table.ipynb>data table notebook</a>'\n",
              "          + ' to learn more about interactive tables.';\n",
              "        element.innerHTML = '';\n",
              "        dataTable['output_type'] = 'display_data';\n",
              "        await google.colab.output.renderOutput(dataTable, element);\n",
              "        const docLink = document.createElement('div');\n",
              "        docLink.innerHTML = docLinkHtml;\n",
              "        element.appendChild(docLink);\n",
              "      }\n",
              "    </script>\n",
              "  </div>\n",
              "\n",
              "\n",
              "    <div id=\"df-2ce79cc3-2a5f-4e45-a389-507818c1fa41\">\n",
              "      <button class=\"colab-df-quickchart\" onclick=\"quickchart('df-2ce79cc3-2a5f-4e45-a389-507818c1fa41')\"\n",
              "                title=\"Suggest charts\"\n",
              "                style=\"display:none;\">\n",
              "\n",
              "<svg xmlns=\"http://www.w3.org/2000/svg\" height=\"24px\"viewBox=\"0 0 24 24\"\n",
              "     width=\"24px\">\n",
              "    <g>\n",
              "        <path d=\"M19 3H5c-1.1 0-2 .9-2 2v14c0 1.1.9 2 2 2h14c1.1 0 2-.9 2-2V5c0-1.1-.9-2-2-2zM9 17H7v-7h2v7zm4 0h-2V7h2v10zm4 0h-2v-4h2v4z\"/>\n",
              "    </g>\n",
              "</svg>\n",
              "      </button>\n",
              "\n",
              "<style>\n",
              "  .colab-df-quickchart {\n",
              "      --bg-color: #E8F0FE;\n",
              "      --fill-color: #1967D2;\n",
              "      --hover-bg-color: #E2EBFA;\n",
              "      --hover-fill-color: #174EA6;\n",
              "      --disabled-fill-color: #AAA;\n",
              "      --disabled-bg-color: #DDD;\n",
              "  }\n",
              "\n",
              "  [theme=dark] .colab-df-quickchart {\n",
              "      --bg-color: #3B4455;\n",
              "      --fill-color: #D2E3FC;\n",
              "      --hover-bg-color: #434B5C;\n",
              "      --hover-fill-color: #FFFFFF;\n",
              "      --disabled-bg-color: #3B4455;\n",
              "      --disabled-fill-color: #666;\n",
              "  }\n",
              "\n",
              "  .colab-df-quickchart {\n",
              "    background-color: var(--bg-color);\n",
              "    border: none;\n",
              "    border-radius: 50%;\n",
              "    cursor: pointer;\n",
              "    display: none;\n",
              "    fill: var(--fill-color);\n",
              "    height: 32px;\n",
              "    padding: 0;\n",
              "    width: 32px;\n",
              "  }\n",
              "\n",
              "  .colab-df-quickchart:hover {\n",
              "    background-color: var(--hover-bg-color);\n",
              "    box-shadow: 0 1px 2px rgba(60, 64, 67, 0.3), 0 1px 3px 1px rgba(60, 64, 67, 0.15);\n",
              "    fill: var(--button-hover-fill-color);\n",
              "  }\n",
              "\n",
              "  .colab-df-quickchart-complete:disabled,\n",
              "  .colab-df-quickchart-complete:disabled:hover {\n",
              "    background-color: var(--disabled-bg-color);\n",
              "    fill: var(--disabled-fill-color);\n",
              "    box-shadow: none;\n",
              "  }\n",
              "\n",
              "  .colab-df-spinner {\n",
              "    border: 2px solid var(--fill-color);\n",
              "    border-color: transparent;\n",
              "    border-bottom-color: var(--fill-color);\n",
              "    animation:\n",
              "      spin 1s steps(1) infinite;\n",
              "  }\n",
              "\n",
              "  @keyframes spin {\n",
              "    0% {\n",
              "      border-color: transparent;\n",
              "      border-bottom-color: var(--fill-color);\n",
              "      border-left-color: var(--fill-color);\n",
              "    }\n",
              "    20% {\n",
              "      border-color: transparent;\n",
              "      border-left-color: var(--fill-color);\n",
              "      border-top-color: var(--fill-color);\n",
              "    }\n",
              "    30% {\n",
              "      border-color: transparent;\n",
              "      border-left-color: var(--fill-color);\n",
              "      border-top-color: var(--fill-color);\n",
              "      border-right-color: var(--fill-color);\n",
              "    }\n",
              "    40% {\n",
              "      border-color: transparent;\n",
              "      border-right-color: var(--fill-color);\n",
              "      border-top-color: var(--fill-color);\n",
              "    }\n",
              "    60% {\n",
              "      border-color: transparent;\n",
              "      border-right-color: var(--fill-color);\n",
              "    }\n",
              "    80% {\n",
              "      border-color: transparent;\n",
              "      border-right-color: var(--fill-color);\n",
              "      border-bottom-color: var(--fill-color);\n",
              "    }\n",
              "    90% {\n",
              "      border-color: transparent;\n",
              "      border-bottom-color: var(--fill-color);\n",
              "    }\n",
              "  }\n",
              "</style>\n",
              "\n",
              "      <script>\n",
              "        async function quickchart(key) {\n",
              "          const quickchartButtonEl =\n",
              "            document.querySelector('#' + key + ' button');\n",
              "          quickchartButtonEl.disabled = true;  // To prevent multiple clicks.\n",
              "          quickchartButtonEl.classList.add('colab-df-spinner');\n",
              "          try {\n",
              "            const charts = await google.colab.kernel.invokeFunction(\n",
              "                'suggestCharts', [key], {});\n",
              "          } catch (error) {\n",
              "            console.error('Error during call to suggestCharts:', error);\n",
              "          }\n",
              "          quickchartButtonEl.classList.remove('colab-df-spinner');\n",
              "          quickchartButtonEl.classList.add('colab-df-quickchart-complete');\n",
              "        }\n",
              "        (() => {\n",
              "          let quickchartButtonEl =\n",
              "            document.querySelector('#df-2ce79cc3-2a5f-4e45-a389-507818c1fa41 button');\n",
              "          quickchartButtonEl.style.display =\n",
              "            google.colab.kernel.accessAllowed ? 'block' : 'none';\n",
              "        })();\n",
              "      </script>\n",
              "    </div>\n",
              "\n",
              "    </div>\n",
              "  </div>\n"
            ],
            "application/vnd.google.colaboratory.intrinsic+json": {
              "type": "dataframe",
              "variable_name": "df"
            }
          },
          "metadata": {},
          "execution_count": 23
        }
      ],
      "source": [
        "import pandas as pd\n",
        "import numpy as np\n",
        "import matplotlib.pyplot as plt\n",
        "\n",
        "\n",
        "df = pd.read_csv(\"sampled_dataset.csv\")\n",
        "df.head()"
      ]
    },
    {
      "cell_type": "code",
      "source": [
        "df.describe()"
      ],
      "metadata": {
        "colab": {
          "base_uri": "https://localhost:8080/",
          "height": 300
        },
        "id": "KwBcXCs3wSkm",
        "outputId": "13010664-803e-4c3d-cf8f-ed9ccc692a75"
      },
      "execution_count": 28,
      "outputs": [
        {
          "output_type": "execute_result",
          "data": {
            "text/plain": [
              "              voltage       frequency\n",
              "count  1000000.000000  1000000.000000\n",
              "mean       229.596722       50.073629\n",
              "std         12.890062        1.747327\n",
              "min          0.707214       31.250000\n",
              "25%        225.601132       49.965024\n",
              "50%        231.258840       50.025013\n",
              "75%        236.209335       50.180650\n",
              "max        388.260255      100.000000"
            ],
            "text/html": [
              "\n",
              "  <div id=\"df-99607277-79b6-48a0-a04a-026e0ff78b85\" class=\"colab-df-container\">\n",
              "    <div>\n",
              "<style scoped>\n",
              "    .dataframe tbody tr th:only-of-type {\n",
              "        vertical-align: middle;\n",
              "    }\n",
              "\n",
              "    .dataframe tbody tr th {\n",
              "        vertical-align: top;\n",
              "    }\n",
              "\n",
              "    .dataframe thead th {\n",
              "        text-align: right;\n",
              "    }\n",
              "</style>\n",
              "<table border=\"1\" class=\"dataframe\">\n",
              "  <thead>\n",
              "    <tr style=\"text-align: right;\">\n",
              "      <th></th>\n",
              "      <th>voltage</th>\n",
              "      <th>frequency</th>\n",
              "    </tr>\n",
              "  </thead>\n",
              "  <tbody>\n",
              "    <tr>\n",
              "      <th>count</th>\n",
              "      <td>1000000.000000</td>\n",
              "      <td>1000000.000000</td>\n",
              "    </tr>\n",
              "    <tr>\n",
              "      <th>mean</th>\n",
              "      <td>229.596722</td>\n",
              "      <td>50.073629</td>\n",
              "    </tr>\n",
              "    <tr>\n",
              "      <th>std</th>\n",
              "      <td>12.890062</td>\n",
              "      <td>1.747327</td>\n",
              "    </tr>\n",
              "    <tr>\n",
              "      <th>min</th>\n",
              "      <td>0.707214</td>\n",
              "      <td>31.250000</td>\n",
              "    </tr>\n",
              "    <tr>\n",
              "      <th>25%</th>\n",
              "      <td>225.601132</td>\n",
              "      <td>49.965024</td>\n",
              "    </tr>\n",
              "    <tr>\n",
              "      <th>50%</th>\n",
              "      <td>231.258840</td>\n",
              "      <td>50.025013</td>\n",
              "    </tr>\n",
              "    <tr>\n",
              "      <th>75%</th>\n",
              "      <td>236.209335</td>\n",
              "      <td>50.180650</td>\n",
              "    </tr>\n",
              "    <tr>\n",
              "      <th>max</th>\n",
              "      <td>388.260255</td>\n",
              "      <td>100.000000</td>\n",
              "    </tr>\n",
              "  </tbody>\n",
              "</table>\n",
              "</div>\n",
              "    <div class=\"colab-df-buttons\">\n",
              "\n",
              "  <div class=\"colab-df-container\">\n",
              "    <button class=\"colab-df-convert\" onclick=\"convertToInteractive('df-99607277-79b6-48a0-a04a-026e0ff78b85')\"\n",
              "            title=\"Convert this dataframe to an interactive table.\"\n",
              "            style=\"display:none;\">\n",
              "\n",
              "  <svg xmlns=\"http://www.w3.org/2000/svg\" height=\"24px\" viewBox=\"0 -960 960 960\">\n",
              "    <path d=\"M120-120v-720h720v720H120Zm60-500h600v-160H180v160Zm220 220h160v-160H400v160Zm0 220h160v-160H400v160ZM180-400h160v-160H180v160Zm440 0h160v-160H620v160ZM180-180h160v-160H180v160Zm440 0h160v-160H620v160Z\"/>\n",
              "  </svg>\n",
              "    </button>\n",
              "\n",
              "  <style>\n",
              "    .colab-df-container {\n",
              "      display:flex;\n",
              "      gap: 12px;\n",
              "    }\n",
              "\n",
              "    .colab-df-convert {\n",
              "      background-color: #E8F0FE;\n",
              "      border: none;\n",
              "      border-radius: 50%;\n",
              "      cursor: pointer;\n",
              "      display: none;\n",
              "      fill: #1967D2;\n",
              "      height: 32px;\n",
              "      padding: 0 0 0 0;\n",
              "      width: 32px;\n",
              "    }\n",
              "\n",
              "    .colab-df-convert:hover {\n",
              "      background-color: #E2EBFA;\n",
              "      box-shadow: 0px 1px 2px rgba(60, 64, 67, 0.3), 0px 1px 3px 1px rgba(60, 64, 67, 0.15);\n",
              "      fill: #174EA6;\n",
              "    }\n",
              "\n",
              "    .colab-df-buttons div {\n",
              "      margin-bottom: 4px;\n",
              "    }\n",
              "\n",
              "    [theme=dark] .colab-df-convert {\n",
              "      background-color: #3B4455;\n",
              "      fill: #D2E3FC;\n",
              "    }\n",
              "\n",
              "    [theme=dark] .colab-df-convert:hover {\n",
              "      background-color: #434B5C;\n",
              "      box-shadow: 0px 1px 3px 1px rgba(0, 0, 0, 0.15);\n",
              "      filter: drop-shadow(0px 1px 2px rgba(0, 0, 0, 0.3));\n",
              "      fill: #FFFFFF;\n",
              "    }\n",
              "  </style>\n",
              "\n",
              "    <script>\n",
              "      const buttonEl =\n",
              "        document.querySelector('#df-99607277-79b6-48a0-a04a-026e0ff78b85 button.colab-df-convert');\n",
              "      buttonEl.style.display =\n",
              "        google.colab.kernel.accessAllowed ? 'block' : 'none';\n",
              "\n",
              "      async function convertToInteractive(key) {\n",
              "        const element = document.querySelector('#df-99607277-79b6-48a0-a04a-026e0ff78b85');\n",
              "        const dataTable =\n",
              "          await google.colab.kernel.invokeFunction('convertToInteractive',\n",
              "                                                    [key], {});\n",
              "        if (!dataTable) return;\n",
              "\n",
              "        const docLinkHtml = 'Like what you see? Visit the ' +\n",
              "          '<a target=\"_blank\" href=https://colab.research.google.com/notebooks/data_table.ipynb>data table notebook</a>'\n",
              "          + ' to learn more about interactive tables.';\n",
              "        element.innerHTML = '';\n",
              "        dataTable['output_type'] = 'display_data';\n",
              "        await google.colab.output.renderOutput(dataTable, element);\n",
              "        const docLink = document.createElement('div');\n",
              "        docLink.innerHTML = docLinkHtml;\n",
              "        element.appendChild(docLink);\n",
              "      }\n",
              "    </script>\n",
              "  </div>\n",
              "\n",
              "\n",
              "    <div id=\"df-65065101-f348-410a-a7c8-410db362aa3b\">\n",
              "      <button class=\"colab-df-quickchart\" onclick=\"quickchart('df-65065101-f348-410a-a7c8-410db362aa3b')\"\n",
              "                title=\"Suggest charts\"\n",
              "                style=\"display:none;\">\n",
              "\n",
              "<svg xmlns=\"http://www.w3.org/2000/svg\" height=\"24px\"viewBox=\"0 0 24 24\"\n",
              "     width=\"24px\">\n",
              "    <g>\n",
              "        <path d=\"M19 3H5c-1.1 0-2 .9-2 2v14c0 1.1.9 2 2 2h14c1.1 0 2-.9 2-2V5c0-1.1-.9-2-2-2zM9 17H7v-7h2v7zm4 0h-2V7h2v10zm4 0h-2v-4h2v4z\"/>\n",
              "    </g>\n",
              "</svg>\n",
              "      </button>\n",
              "\n",
              "<style>\n",
              "  .colab-df-quickchart {\n",
              "      --bg-color: #E8F0FE;\n",
              "      --fill-color: #1967D2;\n",
              "      --hover-bg-color: #E2EBFA;\n",
              "      --hover-fill-color: #174EA6;\n",
              "      --disabled-fill-color: #AAA;\n",
              "      --disabled-bg-color: #DDD;\n",
              "  }\n",
              "\n",
              "  [theme=dark] .colab-df-quickchart {\n",
              "      --bg-color: #3B4455;\n",
              "      --fill-color: #D2E3FC;\n",
              "      --hover-bg-color: #434B5C;\n",
              "      --hover-fill-color: #FFFFFF;\n",
              "      --disabled-bg-color: #3B4455;\n",
              "      --disabled-fill-color: #666;\n",
              "  }\n",
              "\n",
              "  .colab-df-quickchart {\n",
              "    background-color: var(--bg-color);\n",
              "    border: none;\n",
              "    border-radius: 50%;\n",
              "    cursor: pointer;\n",
              "    display: none;\n",
              "    fill: var(--fill-color);\n",
              "    height: 32px;\n",
              "    padding: 0;\n",
              "    width: 32px;\n",
              "  }\n",
              "\n",
              "  .colab-df-quickchart:hover {\n",
              "    background-color: var(--hover-bg-color);\n",
              "    box-shadow: 0 1px 2px rgba(60, 64, 67, 0.3), 0 1px 3px 1px rgba(60, 64, 67, 0.15);\n",
              "    fill: var(--button-hover-fill-color);\n",
              "  }\n",
              "\n",
              "  .colab-df-quickchart-complete:disabled,\n",
              "  .colab-df-quickchart-complete:disabled:hover {\n",
              "    background-color: var(--disabled-bg-color);\n",
              "    fill: var(--disabled-fill-color);\n",
              "    box-shadow: none;\n",
              "  }\n",
              "\n",
              "  .colab-df-spinner {\n",
              "    border: 2px solid var(--fill-color);\n",
              "    border-color: transparent;\n",
              "    border-bottom-color: var(--fill-color);\n",
              "    animation:\n",
              "      spin 1s steps(1) infinite;\n",
              "  }\n",
              "\n",
              "  @keyframes spin {\n",
              "    0% {\n",
              "      border-color: transparent;\n",
              "      border-bottom-color: var(--fill-color);\n",
              "      border-left-color: var(--fill-color);\n",
              "    }\n",
              "    20% {\n",
              "      border-color: transparent;\n",
              "      border-left-color: var(--fill-color);\n",
              "      border-top-color: var(--fill-color);\n",
              "    }\n",
              "    30% {\n",
              "      border-color: transparent;\n",
              "      border-left-color: var(--fill-color);\n",
              "      border-top-color: var(--fill-color);\n",
              "      border-right-color: var(--fill-color);\n",
              "    }\n",
              "    40% {\n",
              "      border-color: transparent;\n",
              "      border-right-color: var(--fill-color);\n",
              "      border-top-color: var(--fill-color);\n",
              "    }\n",
              "    60% {\n",
              "      border-color: transparent;\n",
              "      border-right-color: var(--fill-color);\n",
              "    }\n",
              "    80% {\n",
              "      border-color: transparent;\n",
              "      border-right-color: var(--fill-color);\n",
              "      border-bottom-color: var(--fill-color);\n",
              "    }\n",
              "    90% {\n",
              "      border-color: transparent;\n",
              "      border-bottom-color: var(--fill-color);\n",
              "    }\n",
              "  }\n",
              "</style>\n",
              "\n",
              "      <script>\n",
              "        async function quickchart(key) {\n",
              "          const quickchartButtonEl =\n",
              "            document.querySelector('#' + key + ' button');\n",
              "          quickchartButtonEl.disabled = true;  // To prevent multiple clicks.\n",
              "          quickchartButtonEl.classList.add('colab-df-spinner');\n",
              "          try {\n",
              "            const charts = await google.colab.kernel.invokeFunction(\n",
              "                'suggestCharts', [key], {});\n",
              "          } catch (error) {\n",
              "            console.error('Error during call to suggestCharts:', error);\n",
              "          }\n",
              "          quickchartButtonEl.classList.remove('colab-df-spinner');\n",
              "          quickchartButtonEl.classList.add('colab-df-quickchart-complete');\n",
              "        }\n",
              "        (() => {\n",
              "          let quickchartButtonEl =\n",
              "            document.querySelector('#df-65065101-f348-410a-a7c8-410db362aa3b button');\n",
              "          quickchartButtonEl.style.display =\n",
              "            google.colab.kernel.accessAllowed ? 'block' : 'none';\n",
              "        })();\n",
              "      </script>\n",
              "    </div>\n",
              "\n",
              "    </div>\n",
              "  </div>\n"
            ],
            "application/vnd.google.colaboratory.intrinsic+json": {
              "type": "dataframe",
              "summary": "{\n  \"name\": \"df\",\n  \"rows\": 8,\n  \"fields\": [\n    {\n      \"column\": \"voltage\",\n      \"properties\": {\n        \"dtype\": \"number\",\n        \"std\": 353486.5149203104,\n        \"min\": 0.7072135785007072,\n        \"max\": 1000000.0,\n        \"num_unique_values\": 8,\n        \"samples\": [\n          229.5967220650637,\n          231.2588401697313,\n          1000000.0\n        ],\n        \"semantic_type\": \"\",\n        \"description\": \"\"\n      }\n    },\n    {\n      \"column\": \"frequency\",\n      \"properties\": {\n        \"dtype\": \"number\",\n        \"std\": 353536.5603870029,\n        \"min\": 1.7473272500413561,\n        \"max\": 1000000.0,\n        \"num_unique_values\": 8,\n        \"samples\": [\n          50.073629129196185,\n          50.02501250625313,\n          1000000.0\n        ],\n        \"semantic_type\": \"\",\n        \"description\": \"\"\n      }\n    }\n  ]\n}"
            }
          },
          "metadata": {},
          "execution_count": 28
        }
      ]
    },
    {
      "cell_type": "code",
      "source": [
        "df['power_source_est'].unique()"
      ],
      "metadata": {
        "colab": {
          "base_uri": "https://localhost:8080/"
        },
        "id": "QVxWSHNlmgYw",
        "outputId": "d60bdd6f-0255-478a-acf0-c2bb70988539"
      },
      "execution_count": 4,
      "outputs": [
        {
          "output_type": "execute_result",
          "data": {
            "text/plain": [
              "array(['solar', 'grid', 'generator', 'power_conditioner'], dtype=object)"
            ]
          },
          "metadata": {},
          "execution_count": 4
        }
      ]
    },
    {
      "cell_type": "code",
      "source": [
        "import matplotlib.pyplot as plt\n",
        "\n",
        "# Proportion of each power source type\n",
        "power_source_counts = df['power_source'].value_counts(normalize=True)\n",
        "\n",
        "# Bar plot of power source proportions\n",
        "power_source_counts.plot(kind='bar', color='skyblue')\n",
        "plt.title('Proportion of Power Source Types')\n",
        "plt.ylabel('Proportion')\n",
        "plt.xlabel('Power Source')\n",
        "plt.show()\n",
        "\n",
        "# Pie chart of power source proportions\n",
        "power_source_counts.plot(kind='pie', autopct='%1.1f%%', figsize=(6, 6))\n",
        "plt.title('Power Source Distribution')\n",
        "plt.ylabel('')\n",
        "plt.show()\n",
        "\n",
        "# Proportion of power sources by hospital\n",
        "hospital_power = df.groupby(['hospital', 'power_source']).size().unstack(fill_value=0)\n",
        "hospital_power_prop = hospital_power.div(hospital_power.sum(axis=1), axis=0)\n",
        "\n",
        "hospital_power_prop.plot(kind='bar', stacked=True, figsize=(10, 6))\n",
        "plt.title('Proportion of Power Sources by Hospital')\n",
        "plt.ylabel('Proportion')\n",
        "plt.xlabel('Hospital')\n",
        "plt.legend(title='Power Source')\n",
        "plt.tight_layout()\n",
        "plt.show()"
      ],
      "metadata": {
        "colab": {
          "base_uri": "https://localhost:8080/",
          "height": 1000
        },
        "id": "zSHHvbQ_N59R",
        "outputId": "5b1062bf-df52-4826-815c-4b7355e76f6e"
      },
      "execution_count": 2,
      "outputs": [
        {
          "output_type": "display_data",
          "data": {
            "text/plain": [
              "<Figure size 640x480 with 1 Axes>"
            ],
            "image/png": "[encoded data removed]"
          },
          "metadata": {}
        },
        {
          "output_type": "display_data",
          "data": {
            "text/plain": [
              "<Figure size 600x600 with 1 Axes>"
            ],
            "image/png": "[encoded data removed]"
          },
          "metadata": {}
        },
        {
          "output_type": "display_data",
          "data": {
            "text/plain": [
              "<Figure size 1000x600 with 1 Axes>"
            ],
            "image/png": "[encoded data removed]"
          },
          "metadata": {}
        }
      ]
    },
    {
      "cell_type": "code",
      "source": [],
      "metadata": {
        "id": "nqNUUR7ROUla"
      },
      "execution_count": null,
      "outputs": []
    },
    {
      "cell_type": "markdown",
      "metadata": {
        "id": "a7cebc01"
      },
      "source": [
        "# Task\n",
        "Use supervised machine learning algorithms to predict the `power_source_est` based on the `voltage` and `frequency` features. Train and evaluate various models, then select the best-performing one."
      ]
    },
    {
      "cell_type": "markdown",
      "metadata": {
        "id": "bf11bf2c"
      },
      "source": [
        "## Prepare the data\n",
        "\n",
        "### Subtask:\n",
        "Select the features (`voltage` and `frequency`) and the target variable (`power_source_est`). Handle any missing values and encode categorical variables.\n"
      ]
    },
    {
      "cell_type": "markdown",
      "metadata": {
        "id": "ebd59922"
      },
      "source": [
        "**Reasoning**:\n",
        "Create feature and target variables, check for missing values, and encode the target variable.\n",
        "\n"
      ]
    },
    {
      "cell_type": "code",
      "metadata": {
        "colab": {
          "base_uri": "https://localhost:8080/"
        },
        "id": "9948dd6f",
        "outputId": "865a7985-d0e5-4d42-c8f4-474ea81a52d7"
      },
      "source": [
        "X = df[['voltage', 'frequency']]\n",
        "y = df['power_source_est']\n",
        "\n",
        "# Check for missing values\n",
        "print(\"Missing values in X:\")\n",
        "print(X.isnull().sum())\n",
        "print(\"\\nMissing values in y:\")\n",
        "print(y.isnull().sum())\n",
        "\n",
        "# Handle missing values by dropping rows\n",
        "df_cleaned = df.dropna(subset=['voltage', 'frequency', 'power_source_est'])\n",
        "X = df_cleaned[['voltage', 'frequency']]\n",
        "y = df_cleaned['power_source_est']\n",
        "\n",
        "# Encode the target variable using Label Encoding\n",
        "from sklearn.preprocessing import LabelEncoder\n",
        "\n",
        "label_encoder = LabelEncoder()\n",
        "y_encoded = label_encoder.fit_transform(y)\n",
        "\n",
        "print(\"\\nShape of X after handling missing values:\", X.shape)\n",
        "print(\"Shape of y after handling missing values:\", y.shape)\n",
        "print(\"First 5 encoded target values:\", y_encoded[:5])"
      ],
      "execution_count": 24,
      "outputs": [
        {
          "output_type": "stream",
          "name": "stdout",
          "text": [
            "Missing values in X:\n",
            "voltage      0\n",
            "frequency    0\n",
            "dtype: int64\n",
            "\n",
            "Missing values in y:\n",
            "0\n",
            "\n",
            "Shape of X after handling missing values: (1000000, 2)\n",
            "Shape of y after handling missing values: (1000000,)\n",
            "First 5 encoded target values: [3 1 3 3 0]\n"
          ]
        }
      ]
    },
    {
      "cell_type": "code",
      "source": [
        "print(y)\n",
        "print(y_encoded)"
      ],
      "metadata": {
        "colab": {
          "base_uri": "https://localhost:8080/"
        },
        "id": "6KjV2HU_nKzN",
        "outputId": "c8d86d2b-61f1-474b-dd5b-a67d317bf083"
      },
      "execution_count": 8,
      "outputs": [
        {
          "output_type": "stream",
          "name": "stdout",
          "text": [
            "0           solar\n",
            "1            grid\n",
            "2           solar\n",
            "3           solar\n",
            "4       generator\n",
            "          ...    \n",
            "9995        solar\n",
            "9996         grid\n",
            "9997        solar\n",
            "9998    generator\n",
            "9999         grid\n",
            "Name: power_source_est, Length: 10000, dtype: object\n",
            "[3 1 3 ... 3 0 1]\n"
          ]
        }
      ]
    },
    {
      "cell_type": "markdown",
      "metadata": {
        "id": "5b460d6c"
      },
      "source": [
        "## Split the data\n",
        "\n",
        "### Subtask:\n",
        "Divide the dataset into training and testing sets.\n"
      ]
    },
    {
      "cell_type": "markdown",
      "metadata": {
        "id": "5b376add"
      },
      "source": [
        "**Reasoning**:\n",
        "Split the data into training and testing sets using train_test_split and print the shapes of the resulting sets.\n",
        "\n"
      ]
    },
    {
      "cell_type": "code",
      "metadata": {
        "colab": {
          "base_uri": "https://localhost:8080/"
        },
        "id": "9c22aabf",
        "outputId": "d4fe664b-8de1-4312-d844-88e10ce621bd"
      },
      "source": [
        "from sklearn.model_selection import train_test_split\n",
        "\n",
        "X_train, X_test, y_train, y_test = train_test_split(X, y_encoded, test_size=0.2, random_state=42)\n",
        "\n",
        "print(\"Shape of X_train:\", X_train.shape)\n",
        "print(\"Shape of X_test:\", X_test.shape)\n",
        "print(\"Shape of y_train:\", y_train.shape)\n",
        "print(\"Shape of y_test:\", y_test.shape)"
      ],
      "execution_count": 25,
      "outputs": [
        {
          "output_type": "stream",
          "name": "stdout",
          "text": [
            "Shape of X_train: (800000, 2)\n",
            "Shape of X_test: (200000, 2)\n",
            "Shape of y_train: (800000,)\n",
            "Shape of y_test: (200000,)\n"
          ]
        }
      ]
    },
    {
      "cell_type": "markdown",
      "metadata": {
        "id": "d0d46e3d"
      },
      "source": [
        "## Train various supervised ml models\n",
        "\n",
        "### Subtask:\n",
        "Train different supervised learning algorithms such as Logistic Regression, Decision Tree, Random Forest, Support Vector Machines, and K-Nearest Neighbors on the training data.\n"
      ]
    },
    {
      "cell_type": "markdown",
      "metadata": {
        "id": "5c93e9a3"
      },
      "source": [
        "**Reasoning**:\n",
        "Import the necessary classifier models and train them on the training data.\n",
        "\n"
      ]
    },
    {
      "cell_type": "code",
      "metadata": {
        "colab": {
          "base_uri": "https://localhost:8080/"
        },
        "id": "0138f936",
        "outputId": "053e2f7f-b8d5-41f9-db02-8fc959352ac3"
      },
      "source": [
        "from sklearn.linear_model import LogisticRegression\n",
        "from sklearn.tree import DecisionTreeClassifier\n",
        "from sklearn.ensemble import RandomForestClassifier\n",
        "from sklearn.svm import SVC\n",
        "from sklearn.neighbors import KNeighborsClassifier\n",
        "\n",
        "# Instantiate the models\n",
        "log_reg_model = LogisticRegression()\n",
        "dt_model = DecisionTreeClassifier()\n",
        "rf_model = RandomForestClassifier()\n",
        "svm_model = SVC()\n",
        "knn_model = KNeighborsClassifier()\n",
        "\n",
        "# Train the models\n",
        "# log_reg_model.fit(X_train, y_train)\n",
        "dt_model.fit(X_train, y_train)\n",
        "rf_model.fit(X_train, y_train)\n",
        "# svm_model.fit(X_train, y_train)\n",
        "knn_model.fit(X_train, y_train)\n",
        "\n",
        "print(\"Models trained successfully.\")"
      ],
      "execution_count": 26,
      "outputs": [
        {
          "output_type": "stream",
          "name": "stdout",
          "text": [
            "Models trained successfully.\n"
          ]
        }
      ]
    },
    {
      "cell_type": "markdown",
      "metadata": {
        "id": "26e2e20b"
      },
      "source": [
        "## Evaluate the models\n",
        "\n",
        "### Subtask:\n",
        "Assess the performance of each trained model using appropriate metrics like accuracy, precision, recall, and F1-score on the test data.\n"
      ]
    },
    {
      "cell_type": "markdown",
      "metadata": {
        "id": "9a31a82e"
      },
      "source": [
        "**Reasoning**:\n",
        "Import necessary metrics and calculate accuracy, precision, recall, and F1-score for each trained model on the test data.\n",
        "\n"
      ]
    },
    {
      "cell_type": "code",
      "source": [
        "# Get the first record from X_test\n",
        "\n",
        "testdf = pd.DataFrame([[222.065064, 49.970018]])\n",
        "\n",
        "# Get the prediction for the single record using the Decision Tree model\n",
        "prediction = dt_model.predict(testdf)\n",
        "\n",
        "print(\"Prediction for the first record in X_test:\", prediction)\n",
        "\n",
        "# If you want to see the original features of this record:\n",
        "print(\"Original features of the first record:\", testdf)\n",
        "\n",
        "# If you want to see the actual encoded target value for this record:\n",
        "print(\"Actual encoded target value for the first record:\", y_test[0])\n",
        "\n",
        "# To decode the prediction back to the original power source label:\n",
        "# You would need the label_encoder object created earlier.\n",
        "# Assuming label_encoder is available in the environment:\n",
        "decoded_prediction = label_encoder.inverse_transform(prediction)\n",
        "print(\"Decoded prediction:\", decoded_prediction)"
      ],
      "metadata": {
        "colab": {
          "base_uri": "https://localhost:8080/"
        },
        "id": "qCCjpfvXpk_t",
        "outputId": "356a0b96-47a4-4eaa-c999-d11838cf25b7"
      },
      "execution_count": 21,
      "outputs": [
        {
          "output_type": "stream",
          "name": "stdout",
          "text": [
            "Prediction for the first record in X_test: [3]\n",
            "Original features of the first record:             0          1\n",
            "0  222.065064  49.970018\n",
            "Actual encoded target value for the first record: 1\n",
            "Decoded prediction: ['solar']\n"
          ]
        },
        {
          "output_type": "stream",
          "name": "stderr",
          "text": [
            "/usr/local/lib/python3.11/dist-packages/sklearn/utils/validation.py:2739: UserWarning: X does not have valid feature names, but DecisionTreeClassifier was fitted with feature names\n",
            "  warnings.warn(\n"
          ]
        }
      ]
    },
    {
      "cell_type": "code",
      "metadata": {
        "id": "3d793b30",
        "colab": {
          "base_uri": "https://localhost:8080/"
        },
        "outputId": "4d87d5ec-e450-45bb-a6ac-ae3ba5701f1b"
      },
      "source": [
        "from sklearn.metrics import accuracy_score, precision_score, recall_score, f1_score\n",
        "\n",
        "# Make predictions\n",
        "# y_pred_log_reg = log_reg_model.predict(X_test)\n",
        "y_pred_dt = dt_model.predict(X_test)\n",
        "y_pred_rf = rf_model.predict(X_test)\n",
        "# y_pred_svm = svm_model.predict(X_test)\n",
        "y_pred_knn = knn_model.predict(X_test)\n",
        "\n",
        "# Calculate and print metrics for each model\n",
        "# print(\"--- Logistic Regression Metrics ---\")\n",
        "# print(\"Accuracy:\", accuracy_score(y_test, y_pred_log_reg))\n",
        "# print(\"Precision:\", precision_score(y_test, y_pred_log_reg, average='weighted', zero_division=0))\n",
        "# print(\"Recall:\", recall_score(y_test, y_pred_log_reg, average='weighted', zero_division=0))\n",
        "# print(\"F1-score:\", f1_score(y_test, y_pred_log_reg, average='weighted', zero_division=0))\n",
        "\n",
        "print(\"\\n--- Decision Tree Metrics ---\")\n",
        "print(\"Accuracy:\", accuracy_score(y_test, y_pred_dt))\n",
        "print(\"Precision:\", precision_score(y_test, y_pred_dt, average='weighted', zero_division=0))\n",
        "print(\"Recall:\", recall_score(y_test, y_pred_dt, average='weighted', zero_division=0))\n",
        "print(\"F1-score:\", f1_score(y_test, y_pred_dt, average='weighted', zero_division=0))\n",
        "\n",
        "print(\"\\n--- Random Forest Metrics ---\")\n",
        "print(\"Accuracy:\", accuracy_score(y_test, y_pred_rf))\n",
        "print(\"Precision:\", precision_score(y_test, y_pred_rf, average='weighted', zero_division=0))\n",
        "print(\"Recall:\", recall_score(y_test, y_pred_rf, average='weighted', zero_division=0))\n",
        "print(\"F1-score:\", f1_score(y_test, y_pred_rf, average='weighted', zero_division=0))\n",
        "\n",
        "# print(\"\\n--- Support Vector Machine Metrics ---\")\n",
        "# print(\"Accuracy:\", accuracy_score(y_test, y_pred_svm))\n",
        "# print(\"Precision:\", precision_score(y_test, y_pred_svm, average='weighted', zero_division=0))\n",
        "# print(\"Recall:\", recall_score(y_test, y_pred_svm, average='weighted', zero_division=0))\n",
        "# print(\"F1-score:\", f1_score(y_test, y_pred_svm, average='weighted', zero_division=0))\n",
        "\n",
        "print(\"\\n--- K-Nearest Neighbors Metrics ---\")\n",
        "print(\"Accuracy:\", accuracy_score(y_test, y_pred_knn))\n",
        "print(\"Precision:\", precision_score(y_test, y_pred_knn, average='weighted', zero_division=0))\n",
        "print(\"Recall:\", recall_score(y_test, y_pred_knn, average='weighted', zero_division=0))\n",
        "print(\"F1-score:\", f1_score(y_test, y_pred_knn, average='weighted', zero_division=0))"
      ],
      "execution_count": 27,
      "outputs": [
        {
          "output_type": "stream",
          "name": "stdout",
          "text": [
            "\n",
            "--- Decision Tree Metrics ---\n",
            "Accuracy: 0.81608\n",
            "Precision: 0.8024287618055822\n",
            "Recall: 0.81608\n",
            "F1-score: 0.8067197052159184\n",
            "\n",
            "--- Random Forest Metrics ---\n",
            "Accuracy: 0.818235\n",
            "Precision: 0.8056436804051188\n",
            "Recall: 0.818235\n",
            "F1-score: 0.8084894483685797\n",
            "\n",
            "--- K-Nearest Neighbors Metrics ---\n",
            "Accuracy: 0.79812\n",
            "Precision: 0.7966159715352285\n",
            "Recall: 0.79812\n",
            "F1-score: 0.795539620471465\n"
          ]
        }
      ]
    },
    {
      "cell_type": "markdown",
      "metadata": {
        "id": "626fbb91"
      },
      "source": [
        "## Compare and select the best model\n",
        "\n",
        "### Subtask:\n",
        "Compare the performance of the trained models based on the evaluation metrics and select the best one.\n"
      ]
    },
    {
      "cell_type": "markdown",
      "metadata": {
        "id": "bb4aa42b"
      },
      "source": [
        "## Compare and select the best model\n",
        "\n",
        "### Subtask:\n",
        "Compare the performance of the trained models based on the evaluation metrics and select the best one.\n"
      ]
    },
    {
      "cell_type": "markdown",
      "metadata": {
        "id": "3e4e1c26"
      },
      "source": [
        "## Summary:\n",
        "\n",
        "### Data Analysis Key Findings\n",
        "\n",
        "*   No missing values were found in the selected features (`voltage`, `frequency`) or the target variable (`power_source_est`).\n",
        "*   The dataset was successfully split into training (80%) and testing (20%) sets.\n",
        "*   Five different supervised machine learning models (Logistic Regression, Decision Tree, Random Forest, Support Vector Machine, and K-Nearest Neighbors) were trained on the training data.\n",
        "*   A `ConvergenceWarning` was observed during the training of the Logistic Regression model, indicating potential issues with convergence that might require further investigation or hyperparameter tuning.\n",
        "*   The evaluation metrics on the test set showed varying performance among the models:\n",
        "    *   Logistic Regression: Accuracy: 0.5565, F1-score: 0.4971\n",
        "    *   Decision Tree: Accuracy: 0.7425, F1-score: 0.7400\n",
        "    *   Random Forest: Accuracy: 0.7785, F1-score: 0.7729\n",
        "    *   Support Vector Machine: Accuracy: 0.5975, F1-score: 0.5538\n",
        "    *   K-Nearest Neighbors: Accuracy: 0.7840, F1-score: 0.7764\n",
        "*   Based on both accuracy and F1-score, the K-Nearest Neighbors and Random Forest models performed the best among the evaluated models.\n",
        "\n",
        "### Insights or Next Steps\n",
        "\n",
        "*   The K-Nearest Neighbors model showed slightly better accuracy (0.7840) and a competitive F1-score (0.7764) compared to Random Forest, suggesting it is a strong candidate for predicting `power_source_est` based on `voltage` and `frequency`.\n",
        "*   Further optimization, such as hyperparameter tuning (especially for KNN and Random Forest) and potentially scaling the features (to address the Logistic Regression convergence warning), could improve the performance of the models.\n"
      ]
    },
    {
      "cell_type": "markdown",
      "metadata": {
        "id": "66e88b94"
      },
      "source": [
        "## Scale the data\n",
        "\n",
        "### Subtask:\n",
        "Scale the feature data using StandardScaler."
      ]
    },
    {
      "cell_type": "markdown",
      "metadata": {
        "id": "fa692115"
      },
      "source": [
        "**Reasoning**:\n",
        "Import StandardScaler and scale the training and testing feature data."
      ]
    },
    {
      "cell_type": "code",
      "metadata": {
        "colab": {
          "base_uri": "https://localhost:8080/"
        },
        "id": "1444eb7e",
        "outputId": "b2eab386-225c-4fbc-b4a5-1fe1944ed9e4"
      },
      "source": [
        "from sklearn.preprocessing import StandardScaler\n",
        "\n",
        "scaler = StandardScaler()\n",
        "X_train_scaled = scaler.fit_transform(X_train)\n",
        "X_test_scaled = scaler.transform(X_test)\n",
        "\n",
        "print(\"Shape of scaled X_train:\", X_train_scaled.shape)\n",
        "print(\"Shape of scaled X_test:\", X_test_scaled.shape)"
      ],
      "execution_count": null,
      "outputs": [
        {
          "output_type": "stream",
          "name": "stdout",
          "text": [
            "Shape of scaled X_train: (800000, 2)\n",
            "Shape of scaled X_test: (200000, 2)\n"
          ]
        }
      ]
    },
    {
      "cell_type": "markdown",
      "metadata": {
        "id": "3f117425"
      },
      "source": [
        "## Train and evaluate models with scaled data\n",
        "\n",
        "### Subtask:\n",
        "Train Logistic Regression, SVM, and KNN models on the scaled training data and evaluate their performance on the scaled test data."
      ]
    },
    {
      "cell_type": "markdown",
      "metadata": {
        "id": "3688d8c9"
      },
      "source": [
        "**Reasoning**:\n",
        "Instantiate and train the Logistic Regression, SVM, and KNN models on the scaled data and evaluate them using accuracy, precision, recall, and F1-score."
      ]
    },
    {
      "cell_type": "code",
      "metadata": {
        "colab": {
          "base_uri": "https://localhost:8080/"
        },
        "id": "8a15c624",
        "outputId": "11bb13b6-b2cb-462f-a8fb-f93bd9baf0f3"
      },
      "source": [
        "from sklearn.linear_model import LogisticRegression\n",
        "from sklearn.svm import SVC\n",
        "from sklearn.neighbors import KNeighborsClassifier\n",
        "from sklearn.metrics import accuracy_score, precision_score, recall_score, f1_score\n",
        "\n",
        "# Instantiate the models\n",
        "# log_reg_model_scaled = LogisticRegression()\n",
        "# svm_model_scaled = SVC()\n",
        "knn_model_scaled = KNeighborsClassifier()\n",
        "\n",
        "# Train the models on scaled data\n",
        "# log_reg_model_scaled.fit(X_train_scaled, y_train)\n",
        "# svm_model_scaled.fit(X_train_scaled, y_train)\n",
        "knn_model_scaled.fit(X_train_scaled, y_train)\n",
        "\n",
        "print(\"Models trained successfully on scaled data.\")\n",
        "\n",
        "# Make predictions on scaled test data\n",
        "# y_pred_log_reg_scaled = log_reg_model_scaled.predict(X_test_scaled)\n",
        "# y_pred_svm_scaled = svm_model_scaled.predict(X_test_scaled)\n",
        "y_pred_knn_scaled = knn_model_scaled.predict(X_test_scaled)\n",
        "\n",
        "# Calculate and print metrics for each scaled model\n",
        "# print(\"\\n--- Scaled Logistic Regression Metrics ---\")\n",
        "# print(\"Accuracy:\", accuracy_score(y_test, y_pred_log_reg_scaled))\n",
        "# print(\"Precision:\", precision_score(y_test, y_pred_log_reg_scaled, average='weighted', zero_division=0))\n",
        "# print(\"Recall:\", recall_score(y_test, y_pred_log_reg_scaled, average='weighted', zero_division=0))\n",
        "# print(\"F1-score:\", f1_score(y_test, y_pred_log_reg_scaled, average='weighted', zero_division=0))\n",
        "\n",
        "# print(\"\\n--- Scaled Support Vector Machine Metrics ---\")\n",
        "# print(\"Accuracy:\", accuracy_score(y_test, y_pred_svm_scaled))\n",
        "# print(\"Precision:\", precision_score(y_test, y_pred_svm_scaled, average='weighted', zero_division=0))\n",
        "# print(\"Recall:\", recall_score(y_test, y_pred_svm_scaled, average='weighted', zero_division=0))\n",
        "# print(\"F1-score:\", f1_score(y_test, y_pred_svm_scaled, average='weighted', zero_division=0))\n",
        "\n",
        "print(\"\\n--- Scaled K-Nearest Neighbors Metrics ---\")\n",
        "print(\"Accuracy:\", accuracy_score(y_test, y_pred_knn_scaled))\n",
        "print(\"Precision:\", precision_score(y_test, y_pred_knn_scaled, average='weighted', zero_division=0))\n",
        "print(\"Recall:\", recall_score(y_test, y_pred_knn_scaled, average='weighted', zero_division=0))\n",
        "print(\"F1-score:\", f1_score(y_test, y_pred_knn_scaled, average='weighted', zero_division=0))"
      ],
      "execution_count": null,
      "outputs": [
        {
          "output_type": "stream",
          "name": "stdout",
          "text": [
            "Models trained successfully on scaled data.\n",
            "\n",
            "--- Scaled K-Nearest Neighbors Metrics ---\n",
            "Accuracy: 0.79865\n",
            "Precision: 0.7952387603303638\n",
            "Recall: 0.79865\n",
            "F1-score: 0.7950209579453233\n"
          ]
        }
      ]
    },
    {
      "cell_type": "markdown",
      "metadata": {
        "id": "d2346325"
      },
      "source": [
        "## Compare and select the best model (after scaling)\n",
        "\n",
        "### Subtask:\n",
        "Compare the performance of the trained models on scaled data based on the evaluation metrics and select the best one."
      ]
    },
    {
      "cell_type": "markdown",
      "metadata": {
        "id": "5f5a7bc8"
      },
      "source": [
        "**Reasoning**:\n",
        "Compare the accuracy and F1-scores of the scaled models and identify the best performing model."
      ]
    },
    {
      "cell_type": "code",
      "metadata": {
        "colab": {
          "base_uri": "https://localhost:8080/"
        },
        "id": "38571e8e",
        "outputId": "40d68ae1-b77e-4796-cffc-fc9081631da8"
      },
      "source": [
        "print(\"--- Scaled Logistic Regression Metrics ---\")\n",
        "print(\"Accuracy:\", accuracy_score(y_test, y_pred_log_reg_scaled))\n",
        "print(\"F1-score:\", f1_score(y_test, y_pred_log_reg_scaled, average='weighted', zero_division=0))\n",
        "\n",
        "print(\"\\n--- Scaled Support Vector Machine Metrics ---\")\n",
        "print(\"Accuracy:\", accuracy_score(y_test, y_pred_svm_scaled))\n",
        "print(\"F1-score:\", f1_score(y_test, y_pred_svm_scaled, average='weighted', zero_division=0))\n",
        "\n",
        "print(\"\\n--- Scaled K-Nearest Neighbors Metrics ---\")\n",
        "print(\"Accuracy:\", accuracy_score(y_test, y_pred_knn_scaled))\n",
        "print(\"F1-score:\", f1_score(y_test, y_pred_knn_scaled, average='weighted', zero_division=0))\n",
        "\n",
        "# Compare and select the best model\n",
        "scaled_model_metrics = {\n",
        "    \"Scaled Logistic Regression\": {\"Accuracy\": accuracy_score(y_test, y_pred_log_reg_scaled), \"F1-score\": f1_score(y_test, y_pred_log_reg_scaled, average='weighted', zero_division=0)},\n",
        "    \"Scaled Support Vector Machine\": {\"Accuracy\": accuracy_score(y_test, y_pred_svm_scaled), \"F1-score\": f1_score(y_test, y_pred_svm_scaled, average='weighted', zero_division=0)},\n",
        "    \"Scaled K-Nearest Neighbors\": {\"Accuracy\": accuracy_score(y_test, y_pred_knn_scaled), \"F1-score\": f1_score(y_test, y_pred_knn_scaled, average='weighted', zero_division=0)}\n",
        "}\n",
        "\n",
        "best_model_scaled = max(scaled_model_metrics, key=lambda k: scaled_model_metrics[k]['Accuracy'])\n",
        "\n",
        "print(f\"\\nBased on accuracy, the best performing scaled model is: {best_model_scaled}\")"
      ],
      "execution_count": null,
      "outputs": [
        {
          "output_type": "stream",
          "name": "stdout",
          "text": [
            "--- Scaled Logistic Regression Metrics ---\n",
            "Accuracy: 0.557\n",
            "F1-score: 0.4982580483026377\n",
            "\n",
            "--- Scaled Support Vector Machine Metrics ---\n",
            "Accuracy: 0.6985\n",
            "F1-score: 0.6902187335190209\n",
            "\n",
            "--- Scaled K-Nearest Neighbors Metrics ---\n",
            "Accuracy: 0.7985\n",
            "F1-score: 0.7939407105487364\n",
            "\n",
            "Based on accuracy, the best performing scaled model is: Scaled K-Nearest Neighbors\n"
          ]
        }
      ]
    },
    {
      "cell_type": "markdown",
      "metadata": {
        "id": "f2dcfb4b"
      },
      "source": [
        "## Summary:\n",
        "\n",
        "### Data Analysis Key Findings (after scaling)\n",
        "\n",
        "* Scaling the features using StandardScaler improved the performance of Support Vector Machine and K-Nearest Neighbors models, while the performance of Logistic Regression remained similar.\n",
        "* The scaled K-Nearest Neighbors model achieved the highest accuracy (0.7985) and F1-score (0.7939) among the scaled models.\n",
        "\n",
        "### Insights or Next Steps (after scaling)\n",
        "\n",
        "* The scaled K-Nearest Neighbors model is the best performing model for predicting `power_source_est` based on scaled `voltage` and `frequency`.\n",
        "* Further investigation could involve hyperparameter tuning for the scaled K-Nearest Neighbors model to potentially achieve even better performance.\n",
        "* Comparing the performance of the best scaled model (KNN) with the best unscaled model (also KNN) confirms that scaling slightly improved the KNN model's accuracy and F1-score in this case."
      ]
    },
    {
      "cell_type": "markdown",
      "metadata": {
        "id": "841670c9"
      },
      "source": [
        "# Task\n",
        "Modify the empty cell to create a new feature based on the `voltage` and `frequency` columns, then train and evaluate a K-Nearest Neighbors model with scaled data including this new feature, and compare its performance to the model without the new feature to determine if the new feature improves accuracy."
      ]
    },
    {
      "cell_type": "markdown",
      "metadata": {
        "id": "cd2136f6"
      },
      "source": [
        "## Create a new feature\n",
        "\n",
        "### Subtask:\n",
        "Based on the existing `voltage` and `frequency` features, create a new feature that might be indicative of the power source.\n"
      ]
    },
    {
      "cell_type": "markdown",
      "metadata": {
        "id": "8ae5711b"
      },
      "source": [
        "**Reasoning**:\n",
        "Create a new feature 'voltage_frequency_product' by multiplying 'voltage' and 'frequency' columns and display the head of the dataframe to verify the new column.\n",
        "\n"
      ]
    },
    {
      "cell_type": "code",
      "metadata": {
        "colab": {
          "base_uri": "https://localhost:8080/",
          "height": 434
        },
        "id": "f9f67784",
        "outputId": "c238a9fb-3346-4ce0-8a6d-08d47ceb1591"
      },
      "source": [
        "df['voltage_frequency_product'] = df['voltage'] * df['frequency']\n",
        "display(df.head())"
      ],
      "execution_count": null,
      "outputs": [
        {
          "output_type": "display_data",
          "data": {
            "text/plain": [
              "                  time respondent_id  \\\n",
              "0  2024-02-10 22:46:03      AE9D9E66   \n",
              "1  2023-05-31 12:00:59      23D03AB0   \n",
              "2  2023-10-13 10:22:03      BBFDA35A   \n",
              "3  2024-01-07 19:36:03      86ABF063   \n",
              "4  2023-12-08 12:34:03      40101E61   \n",
              "\n",
              "                                                room            hospital  \\\n",
              "0                     Special Baby Care ward - Solar              kambia   \n",
              "1  Labour ward/Maternity - Grid w/Solar & Generat...  princess_christian   \n",
              "2              Main drug store - Solar w/Grid Backup            hastings   \n",
              "3        Operating theatre room  - Solar & Generator              bonthe   \n",
              "4                Emergency room  - Solar & Generator             masanga   \n",
              "\n",
              "      voltage  frequency                     power_source power_source_est  \\\n",
              "0  222.065064  49.970018                            Solar            solar   \n",
              "1  231.258840  50.205844  Grid w/Solar & Generator Backup             grid   \n",
              "2  214.992928  49.995000              Solar w/Grid Backup            solar   \n",
              "3  233.380481  50.000000                Solar & Generator            solar   \n",
              "4  238.330976  52.684263                Solar & Generator        generator   \n",
              "\n",
              "   voltage_frequency_product  \n",
              "0               11096.595225  \n",
              "1               11610.545244  \n",
              "2               10748.571536  \n",
              "3               11669.024045  \n",
              "4               12556.291868  "
            ],
            "text/html": [
              "\n",
              "  <div id=\"df-724bebf5-54cf-41ad-bc90-31dea83d04a1\" class=\"colab-df-container\">\n",
              "    <div>\n",
              "<style scoped>\n",
              "    .dataframe tbody tr th:only-of-type {\n",
              "        vertical-align: middle;\n",
              "    }\n",
              "\n",
              "    .dataframe tbody tr th {\n",
              "        vertical-align: top;\n",
              "    }\n",
              "\n",
              "    .dataframe thead th {\n",
              "        text-align: right;\n",
              "    }\n",
              "</style>\n",
              "<table border=\"1\" class=\"dataframe\">\n",
              "  <thead>\n",
              "    <tr style=\"text-align: right;\">\n",
              "      <th></th>\n",
              "      <th>time</th>\n",
              "      <th>respondent_id</th>\n",
              "      <th>room</th>\n",
              "      <th>hospital</th>\n",
              "      <th>voltage</th>\n",
              "      <th>frequency</th>\n",
              "      <th>power_source</th>\n",
              "      <th>power_source_est</th>\n",
              "      <th>voltage_frequency_product</th>\n",
              "    </tr>\n",
              "  </thead>\n",
              "  <tbody>\n",
              "    <tr>\n",
              "      <th>0</th>\n",
              "      <td>2024-02-10 22:46:03</td>\n",
              "      <td>AE9D9E66</td>\n",
              "      <td>Special Baby Care ward - Solar</td>\n",
              "      <td>kambia</td>\n",
              "      <td>222.065064</td>\n",
              "      <td>49.970018</td>\n",
              "      <td>Solar</td>\n",
              "      <td>solar</td>\n",
              "      <td>11096.595225</td>\n",
              "    </tr>\n",
              "    <tr>\n",
              "      <th>1</th>\n",
              "      <td>2023-05-31 12:00:59</td>\n",
              "      <td>23D03AB0</td>\n",
              "      <td>Labour ward/Maternity - Grid w/Solar &amp; Generat...</td>\n",
              "      <td>princess_christian</td>\n",
              "      <td>231.258840</td>\n",
              "      <td>50.205844</td>\n",
              "      <td>Grid w/Solar &amp; Generator Backup</td>\n",
              "      <td>grid</td>\n",
              "      <td>11610.545244</td>\n",
              "    </tr>\n",
              "    <tr>\n",
              "      <th>2</th>\n",
              "      <td>2023-10-13 10:22:03</td>\n",
              "      <td>BBFDA35A</td>\n",
              "      <td>Main drug store - Solar w/Grid Backup</td>\n",
              "      <td>hastings</td>\n",
              "      <td>214.992928</td>\n",
              "      <td>49.995000</td>\n",
              "      <td>Solar w/Grid Backup</td>\n",
              "      <td>solar</td>\n",
              "      <td>10748.571536</td>\n",
              "    </tr>\n",
              "    <tr>\n",
              "      <th>3</th>\n",
              "      <td>2024-01-07 19:36:03</td>\n",
              "      <td>86ABF063</td>\n",
              "      <td>Operating theatre room  - Solar &amp; Generator</td>\n",
              "      <td>bonthe</td>\n",
              "      <td>233.380481</td>\n",
              "      <td>50.000000</td>\n",
              "      <td>Solar &amp; Generator</td>\n",
              "      <td>solar</td>\n",
              "      <td>11669.024045</td>\n",
              "    </tr>\n",
              "    <tr>\n",
              "      <th>4</th>\n",
              "      <td>2023-12-08 12:34:03</td>\n",
              "      <td>40101E61</td>\n",
              "      <td>Emergency room  - Solar &amp; Generator</td>\n",
              "      <td>masanga</td>\n",
              "      <td>238.330976</td>\n",
              "      <td>52.684263</td>\n",
              "      <td>Solar &amp; Generator</td>\n",
              "      <td>generator</td>\n",
              "      <td>12556.291868</td>\n",
              "    </tr>\n",
              "  </tbody>\n",
              "</table>\n",
              "</div>\n",
              "    <div class=\"colab-df-buttons\">\n",
              "\n",
              "  <div class=\"colab-df-container\">\n",
              "    <button class=\"colab-df-convert\" onclick=\"convertToInteractive('df-724bebf5-54cf-41ad-bc90-31dea83d04a1')\"\n",
              "            title=\"Convert this dataframe to an interactive table.\"\n",
              "            style=\"display:none;\">\n",
              "\n",
              "  <svg xmlns=\"http://www.w3.org/2000/svg\" height=\"24px\" viewBox=\"0 -960 960 960\">\n",
              "    <path d=\"M120-120v-720h720v720H120Zm60-500h600v-160H180v160Zm220 220h160v-160H400v160Zm0 220h160v-160H400v160ZM180-400h160v-160H180v160Zm440 0h160v-160H620v160ZM180-180h160v-160H180v160Zm440 0h160v-160H620v160Z\"/>\n",
              "  </svg>\n",
              "    </button>\n",
              "\n",
              "  <style>\n",
              "    .colab-df-container {\n",
              "      display:flex;\n",
              "      gap: 12px;\n",
              "    }\n",
              "\n",
              "    .colab-df-convert {\n",
              "      background-color: #E8F0FE;\n",
              "      border: none;\n",
              "      border-radius: 50%;\n",
              "      cursor: pointer;\n",
              "      display: none;\n",
              "      fill: #1967D2;\n",
              "      height: 32px;\n",
              "      padding: 0 0 0 0;\n",
              "      width: 32px;\n",
              "    }\n",
              "\n",
              "    .colab-df-convert:hover {\n",
              "      background-color: #E2EBFA;\n",
              "      box-shadow: 0px 1px 2px rgba(60, 64, 67, 0.3), 0px 1px 3px 1px rgba(60, 64, 67, 0.15);\n",
              "      fill: #174EA6;\n",
              "    }\n",
              "\n",
              "    .colab-df-buttons div {\n",
              "      margin-bottom: 4px;\n",
              "    }\n",
              "\n",
              "    [theme=dark] .colab-df-convert {\n",
              "      background-color: #3B4455;\n",
              "      fill: #D2E3FC;\n",
              "    }\n",
              "\n",
              "    [theme=dark] .colab-df-convert:hover {\n",
              "      background-color: #434B5C;\n",
              "      box-shadow: 0px 1px 3px 1px rgba(0, 0, 0, 0.15);\n",
              "      filter: drop-shadow(0px 1px 2px rgba(0, 0, 0, 0.3));\n",
              "      fill: #FFFFFF;\n",
              "    }\n",
              "  </style>\n",
              "\n",
              "    <script>\n",
              "      const buttonEl =\n",
              "        document.querySelector('#df-724bebf5-54cf-41ad-bc90-31dea83d04a1 button.colab-df-convert');\n",
              "      buttonEl.style.display =\n",
              "        google.colab.kernel.accessAllowed ? 'block' : 'none';\n",
              "\n",
              "      async function convertToInteractive(key) {\n",
              "        const element = document.querySelector('#df-724bebf5-54cf-41ad-bc90-31dea83d04a1');\n",
              "        const dataTable =\n",
              "          await google.colab.kernel.invokeFunction('convertToInteractive',\n",
              "                                                    [key], {});\n",
              "        if (!dataTable) return;\n",
              "\n",
              "        const docLinkHtml = 'Like what you see? Visit the ' +\n",
              "          '<a target=\"_blank\" href=https://colab.research.google.com/notebooks/data_table.ipynb>data table notebook</a>'\n",
              "          + ' to learn more about interactive tables.';\n",
              "        element.innerHTML = '';\n",
              "        dataTable['output_type'] = 'display_data';\n",
              "        await google.colab.output.renderOutput(dataTable, element);\n",
              "        const docLink = document.createElement('div');\n",
              "        docLink.innerHTML = docLinkHtml;\n",
              "        element.appendChild(docLink);\n",
              "      }\n",
              "    </script>\n",
              "  </div>\n",
              "\n",
              "\n",
              "    <div id=\"df-9b7b5d42-ea40-49e6-9025-301d203b99ee\">\n",
              "      <button class=\"colab-df-quickchart\" onclick=\"quickchart('df-9b7b5d42-ea40-49e6-9025-301d203b99ee')\"\n",
              "                title=\"Suggest charts\"\n",
              "                style=\"display:none;\">\n",
              "\n",
              "<svg xmlns=\"http://www.w3.org/2000/svg\" height=\"24px\"viewBox=\"0 0 24 24\"\n",
              "     width=\"24px\">\n",
              "    <g>\n",
              "        <path d=\"M19 3H5c-1.1 0-2 .9-2 2v14c0 1.1.9 2 2 2h14c1.1 0 2-.9 2-2V5c0-1.1-.9-2-2-2zM9 17H7v-7h2v7zm4 0h-2V7h2v10zm4 0h-2v-4h2v4z\"/>\n",
              "    </g>\n",
              "</svg>\n",
              "      </button>\n",
              "\n",
              "<style>\n",
              "  .colab-df-quickchart {\n",
              "      --bg-color: #E8F0FE;\n",
              "      --fill-color: #1967D2;\n",
              "      --hover-bg-color: #E2EBFA;\n",
              "      --hover-fill-color: #174EA6;\n",
              "      --disabled-fill-color: #AAA;\n",
              "      --disabled-bg-color: #DDD;\n",
              "  }\n",
              "\n",
              "  [theme=dark] .colab-df-quickchart {\n",
              "      --bg-color: #3B4455;\n",
              "      --fill-color: #D2E3FC;\n",
              "      --hover-bg-color: #434B5C;\n",
              "      --hover-fill-color: #FFFFFF;\n",
              "      --disabled-bg-color: #3B4455;\n",
              "      --disabled-fill-color: #666;\n",
              "  }\n",
              "\n",
              "  .colab-df-quickchart {\n",
              "    background-color: var(--bg-color);\n",
              "    border: none;\n",
              "    border-radius: 50%;\n",
              "    cursor: pointer;\n",
              "    display: none;\n",
              "    fill: var(--fill-color);\n",
              "    height: 32px;\n",
              "    padding: 0;\n",
              "    width: 32px;\n",
              "  }\n",
              "\n",
              "  .colab-df-quickchart:hover {\n",
              "    background-color: var(--hover-bg-color);\n",
              "    box-shadow: 0 1px 2px rgba(60, 64, 67, 0.3), 0 1px 3px 1px rgba(60, 64, 67, 0.15);\n",
              "    fill: var(--button-hover-fill-color);\n",
              "  }\n",
              "\n",
              "  .colab-df-quickchart-complete:disabled,\n",
              "  .colab-df-quickchart-complete:disabled:hover {\n",
              "    background-color: var(--disabled-bg-color);\n",
              "    fill: var(--disabled-fill-color);\n",
              "    box-shadow: none;\n",
              "  }\n",
              "\n",
              "  .colab-df-spinner {\n",
              "    border: 2px solid var(--fill-color);\n",
              "    border-color: transparent;\n",
              "    border-bottom-color: var(--fill-color);\n",
              "    animation:\n",
              "      spin 1s steps(1) infinite;\n",
              "  }\n",
              "\n",
              "  @keyframes spin {\n",
              "    0% {\n",
              "      border-color: transparent;\n",
              "      border-bottom-color: var(--fill-color);\n",
              "      border-left-color: var(--fill-color);\n",
              "    }\n",
              "    20% {\n",
              "      border-color: transparent;\n",
              "      border-left-color: var(--fill-color);\n",
              "      border-top-color: var(--fill-color);\n",
              "    }\n",
              "    30% {\n",
              "      border-color: transparent;\n",
              "      border-left-color: var(--fill-color);\n",
              "      border-top-color: var(--fill-color);\n",
              "      border-right-color: var(--fill-color);\n",
              "    }\n",
              "    40% {\n",
              "      border-color: transparent;\n",
              "      border-right-color: var(--fill-color);\n",
              "      border-top-color: var(--fill-color);\n",
              "    }\n",
              "    60% {\n",
              "      border-color: transparent;\n",
              "      border-right-color: var(--fill-color);\n",
              "    }\n",
              "    80% {\n",
              "      border-color: transparent;\n",
              "      border-right-color: var(--fill-color);\n",
              "      border-bottom-color: var(--fill-color);\n",
              "    }\n",
              "    90% {\n",
              "      border-color: transparent;\n",
              "      border-bottom-color: var(--fill-color);\n",
              "    }\n",
              "  }\n",
              "</style>\n",
              "\n",
              "      <script>\n",
              "        async function quickchart(key) {\n",
              "          const quickchartButtonEl =\n",
              "            document.querySelector('#' + key + ' button');\n",
              "          quickchartButtonEl.disabled = true;  // To prevent multiple clicks.\n",
              "          quickchartButtonEl.classList.add('colab-df-spinner');\n",
              "          try {\n",
              "            const charts = await google.colab.kernel.invokeFunction(\n",
              "                'suggestCharts', [key], {});\n",
              "          } catch (error) {\n",
              "            console.error('Error during call to suggestCharts:', error);\n",
              "          }\n",
              "          quickchartButtonEl.classList.remove('colab-df-spinner');\n",
              "          quickchartButtonEl.classList.add('colab-df-quickchart-complete');\n",
              "        }\n",
              "        (() => {\n",
              "          let quickchartButtonEl =\n",
              "            document.querySelector('#df-9b7b5d42-ea40-49e6-9025-301d203b99ee button');\n",
              "          quickchartButtonEl.style.display =\n",
              "            google.colab.kernel.accessAllowed ? 'block' : 'none';\n",
              "        })();\n",
              "      </script>\n",
              "    </div>\n",
              "\n",
              "    </div>\n",
              "  </div>\n"
            ],
            "application/vnd.google.colaboratory.intrinsic+json": {
              "type": "dataframe",
              "summary": "{\n  \"name\": \"display(df\",\n  \"rows\": 5,\n  \"fields\": [\n    {\n      \"column\": \"time\",\n      \"properties\": {\n        \"dtype\": \"object\",\n        \"num_unique_values\": 5,\n        \"samples\": [\n          \"2023-05-31 12:00:59\",\n          \"2023-12-08 12:34:03\",\n          \"2023-10-13 10:22:03\"\n        ],\n        \"semantic_type\": \"\",\n        \"description\": \"\"\n      }\n    },\n    {\n      \"column\": \"respondent_id\",\n      \"properties\": {\n        \"dtype\": \"string\",\n        \"num_unique_values\": 5,\n        \"samples\": [\n          \"23D03AB0\",\n          \"40101E61\",\n          \"BBFDA35A\"\n        ],\n        \"semantic_type\": \"\",\n        \"description\": \"\"\n      }\n    },\n    {\n      \"column\": \"room\",\n      \"properties\": {\n        \"dtype\": \"string\",\n        \"num_unique_values\": 5,\n        \"samples\": [\n          \"Labour ward/Maternity - Grid w/Solar & Generator Backup\",\n          \"Emergency room  - Solar & Generator\",\n          \"Main drug store - Solar w/Grid Backup\"\n        ],\n        \"semantic_type\": \"\",\n        \"description\": \"\"\n      }\n    },\n    {\n      \"column\": \"hospital\",\n      \"properties\": {\n        \"dtype\": \"string\",\n        \"num_unique_values\": 5,\n        \"samples\": [\n          \"princess_christian\",\n          \"masanga\",\n          \"hastings\"\n        ],\n        \"semantic_type\": \"\",\n        \"description\": \"\"\n      }\n    },\n    {\n      \"column\": \"voltage\",\n      \"properties\": {\n        \"dtype\": \"number\",\n        \"std\": 9.3635718770374,\n        \"min\": 214.992927864215,\n        \"max\": 238.3309759547384,\n        \"num_unique_values\": 5,\n        \"samples\": [\n          231.2588401697313,\n          238.3309759547384,\n          214.992927864215\n        ],\n        \"semantic_type\": \"\",\n        \"description\": \"\"\n      }\n    },\n    {\n      \"column\": \"frequency\",\n      \"properties\": {\n        \"dtype\": \"number\",\n        \"std\": 1.1851388240159115,\n        \"min\": 49.97001798920648,\n        \"max\": 52.684263210579005,\n        \"num_unique_values\": 5,\n        \"samples\": [\n          50.205843960236976,\n          52.684263210579005,\n          49.99500049995001\n        ],\n        \"semantic_type\": \"\",\n        \"description\": \"\"\n      }\n    },\n    {\n      \"column\": \"power_source\",\n      \"properties\": {\n        \"dtype\": \"string\",\n        \"num_unique_values\": 4,\n        \"samples\": [\n          \"Grid w/Solar & Generator Backup\",\n          \"Solar & Generator\",\n          \"Solar\"\n        ],\n        \"semantic_type\": \"\",\n        \"description\": \"\"\n      }\n    },\n    {\n      \"column\": \"power_source_est\",\n      \"properties\": {\n        \"dtype\": \"string\",\n        \"num_unique_values\": 3,\n        \"samples\": [\n          \"solar\",\n          \"grid\",\n          \"generator\"\n        ],\n        \"semantic_type\": \"\",\n        \"description\": \"\"\n      }\n    },\n    {\n      \"column\": \"voltage_frequency_product\",\n      \"properties\": {\n        \"dtype\": \"number\",\n        \"std\": 685.0853628054081,\n        \"min\": 10748.571536057145,\n        \"max\": 12556.291868433613,\n        \"num_unique_values\": 5,\n        \"samples\": [\n          11610.545243986911,\n          12556.291868433613,\n          10748.571536057145\n        ],\n        \"semantic_type\": \"\",\n        \"description\": \"\"\n      }\n    }\n  ]\n}"
            }
          },
          "metadata": {}
        }
      ]
    },
    {
      "cell_type": "markdown",
      "metadata": {
        "id": "42efdffa"
      },
      "source": [
        "## Prepare the data with the new feature\n",
        "\n",
        "### Subtask:\n",
        "Include the newly created feature along with the original features. Handle any missing values and encode categorical variables if necessary.\n"
      ]
    },
    {
      "cell_type": "markdown",
      "metadata": {
        "id": "a4aeedf6"
      },
      "source": [
        "**Reasoning**:\n",
        "Select the specified features and target variable from the cleaned DataFrame, encode the target variable, and print the shapes to verify the data preparation for the next steps.\n",
        "\n"
      ]
    },
    {
      "cell_type": "code",
      "metadata": {
        "colab": {
          "base_uri": "https://localhost:8080/",
          "height": 356
        },
        "id": "dbe6d26d",
        "outputId": "e9477044-2f91-4c53-807f-f022d160a2b4"
      },
      "source": [
        "X = df_cleaned[['voltage', 'frequency', 'voltage_frequency_product']]\n",
        "y = df_cleaned['power_source_est']\n",
        "\n",
        "# Encode the target variable using Label Encoding\n",
        "label_encoder = LabelEncoder()\n",
        "y_encoded = label_encoder.fit_transform(y)\n",
        "\n",
        "print(\"Shape of X:\", X.shape)\n",
        "print(\"Shape of y_encoded:\", y_encoded.shape)"
      ],
      "execution_count": null,
      "outputs": [
        {
          "output_type": "error",
          "ename": "KeyError",
          "evalue": "\"['voltage_frequency_product'] not in index\"",
          "traceback": [
            "\u001b[0;31m---------------------------------------------------------------------------\u001b[0m",
            "\u001b[0;31mKeyError\u001b[0m                                  Traceback (most recent call last)",
            "\u001b[0;32m/tmp/ipython-input-11-1197072532.py\u001b[0m in \u001b[0;36m<cell line: 0>\u001b[0;34m()\u001b[0m\n\u001b[0;32m----> 1\u001b[0;31m \u001b[0mX\u001b[0m \u001b[0;34m=\u001b[0m \u001b[0mdf_cleaned\u001b[0m\u001b[0;34m[\u001b[0m\u001b[0;34m[\u001b[0m\u001b[0;34m'voltage'\u001b[0m\u001b[0;34m,\u001b[0m \u001b[0;34m'frequency'\u001b[0m\u001b[0;34m,\u001b[0m \u001b[0;34m'voltage_frequency_product'\u001b[0m\u001b[0;34m]\u001b[0m\u001b[0;34m]\u001b[0m\u001b[0;34m\u001b[0m\u001b[0;34m\u001b[0m\u001b[0m\n\u001b[0m\u001b[1;32m      2\u001b[0m \u001b[0my\u001b[0m \u001b[0;34m=\u001b[0m \u001b[0mdf_cleaned\u001b[0m\u001b[0;34m[\u001b[0m\u001b[0;34m'power_source_est'\u001b[0m\u001b[0;34m]\u001b[0m\u001b[0;34m\u001b[0m\u001b[0;34m\u001b[0m\u001b[0m\n\u001b[1;32m      3\u001b[0m \u001b[0;34m\u001b[0m\u001b[0m\n\u001b[1;32m      4\u001b[0m \u001b[0;31m# Encode the target variable using Label Encoding\u001b[0m\u001b[0;34m\u001b[0m\u001b[0;34m\u001b[0m\u001b[0m\n\u001b[1;32m      5\u001b[0m \u001b[0mlabel_encoder\u001b[0m \u001b[0;34m=\u001b[0m \u001b[0mLabelEncoder\u001b[0m\u001b[0;34m(\u001b[0m\u001b[0;34m)\u001b[0m\u001b[0;34m\u001b[0m\u001b[0;34m\u001b[0m\u001b[0m\n",
            "\u001b[0;32m/usr/local/lib/python3.11/dist-packages/pandas/core/frame.py\u001b[0m in \u001b[0;36m__getitem__\u001b[0;34m(self, key)\u001b[0m\n\u001b[1;32m   4106\u001b[0m             \u001b[0;32mif\u001b[0m \u001b[0mis_iterator\u001b[0m\u001b[0;34m(\u001b[0m\u001b[0mkey\u001b[0m\u001b[0;34m)\u001b[0m\u001b[0;34m:\u001b[0m\u001b[0;34m\u001b[0m\u001b[0;34m\u001b[0m\u001b[0m\n\u001b[1;32m   4107\u001b[0m                 \u001b[0mkey\u001b[0m \u001b[0;34m=\u001b[0m \u001b[0mlist\u001b[0m\u001b[0;34m(\u001b[0m\u001b[0mkey\u001b[0m\u001b[0;34m)\u001b[0m\u001b[0;34m\u001b[0m\u001b[0;34m\u001b[0m\u001b[0m\n\u001b[0;32m-> 4108\u001b[0;31m             \u001b[0mindexer\u001b[0m \u001b[0;34m=\u001b[0m \u001b[0mself\u001b[0m\u001b[0;34m.\u001b[0m\u001b[0mcolumns\u001b[0m\u001b[0;34m.\u001b[0m\u001b[0m_get_indexer_strict\u001b[0m\u001b[0;34m(\u001b[0m\u001b[0mkey\u001b[0m\u001b[0;34m,\u001b[0m \u001b[0;34m\"columns\"\u001b[0m\u001b[0;34m)\u001b[0m\u001b[0;34m[\u001b[0m\u001b[0;36m1\u001b[0m\u001b[0;34m]\u001b[0m\u001b[0;34m\u001b[0m\u001b[0;34m\u001b[0m\u001b[0m\n\u001b[0m\u001b[1;32m   4109\u001b[0m \u001b[0;34m\u001b[0m\u001b[0m\n\u001b[1;32m   4110\u001b[0m         \u001b[0;31m# take() does not accept boolean indexers\u001b[0m\u001b[0;34m\u001b[0m\u001b[0;34m\u001b[0m\u001b[0m\n",
            "\u001b[0;32m/usr/local/lib/python3.11/dist-packages/pandas/core/indexes/base.py\u001b[0m in \u001b[0;36m_get_indexer_strict\u001b[0;34m(self, key, axis_name)\u001b[0m\n\u001b[1;32m   6198\u001b[0m             \u001b[0mkeyarr\u001b[0m\u001b[0;34m,\u001b[0m \u001b[0mindexer\u001b[0m\u001b[0;34m,\u001b[0m \u001b[0mnew_indexer\u001b[0m \u001b[0;34m=\u001b[0m \u001b[0mself\u001b[0m\u001b[0;34m.\u001b[0m\u001b[0m_reindex_non_unique\u001b[0m\u001b[0;34m(\u001b[0m\u001b[0mkeyarr\u001b[0m\u001b[0;34m)\u001b[0m\u001b[0;34m\u001b[0m\u001b[0;34m\u001b[0m\u001b[0m\n\u001b[1;32m   6199\u001b[0m \u001b[0;34m\u001b[0m\u001b[0m\n\u001b[0;32m-> 6200\u001b[0;31m         \u001b[0mself\u001b[0m\u001b[0;34m.\u001b[0m\u001b[0m_raise_if_missing\u001b[0m\u001b[0;34m(\u001b[0m\u001b[0mkeyarr\u001b[0m\u001b[0;34m,\u001b[0m \u001b[0mindexer\u001b[0m\u001b[0;34m,\u001b[0m \u001b[0maxis_name\u001b[0m\u001b[0;34m)\u001b[0m\u001b[0;34m\u001b[0m\u001b[0;34m\u001b[0m\u001b[0m\n\u001b[0m\u001b[1;32m   6201\u001b[0m \u001b[0;34m\u001b[0m\u001b[0m\n\u001b[1;32m   6202\u001b[0m         \u001b[0mkeyarr\u001b[0m \u001b[0;34m=\u001b[0m \u001b[0mself\u001b[0m\u001b[0;34m.\u001b[0m\u001b[0mtake\u001b[0m\u001b[0;34m(\u001b[0m\u001b[0mindexer\u001b[0m\u001b[0;34m)\u001b[0m\u001b[0;34m\u001b[0m\u001b[0;34m\u001b[0m\u001b[0m\n",
            "\u001b[0;32m/usr/local/lib/python3.11/dist-packages/pandas/core/indexes/base.py\u001b[0m in \u001b[0;36m_raise_if_missing\u001b[0;34m(self, key, indexer, axis_name)\u001b[0m\n\u001b[1;32m   6250\u001b[0m \u001b[0;34m\u001b[0m\u001b[0m\n\u001b[1;32m   6251\u001b[0m             \u001b[0mnot_found\u001b[0m \u001b[0;34m=\u001b[0m \u001b[0mlist\u001b[0m\u001b[0;34m(\u001b[0m\u001b[0mensure_index\u001b[0m\u001b[0;34m(\u001b[0m\u001b[0mkey\u001b[0m\u001b[0;34m)\u001b[0m\u001b[0;34m[\u001b[0m\u001b[0mmissing_mask\u001b[0m\u001b[0;34m.\u001b[0m\u001b[0mnonzero\u001b[0m\u001b[0;34m(\u001b[0m\u001b[0;34m)\u001b[0m\u001b[0;34m[\u001b[0m\u001b[0;36m0\u001b[0m\u001b[0;34m]\u001b[0m\u001b[0;34m]\u001b[0m\u001b[0;34m.\u001b[0m\u001b[0munique\u001b[0m\u001b[0;34m(\u001b[0m\u001b[0;34m)\u001b[0m\u001b[0;34m)\u001b[0m\u001b[0;34m\u001b[0m\u001b[0;34m\u001b[0m\u001b[0m\n\u001b[0;32m-> 6252\u001b[0;31m             \u001b[0;32mraise\u001b[0m \u001b[0mKeyError\u001b[0m\u001b[0;34m(\u001b[0m\u001b[0;34mf\"{not_found} not in index\"\u001b[0m\u001b[0;34m)\u001b[0m\u001b[0;34m\u001b[0m\u001b[0;34m\u001b[0m\u001b[0m\n\u001b[0m\u001b[1;32m   6253\u001b[0m \u001b[0;34m\u001b[0m\u001b[0m\n\u001b[1;32m   6254\u001b[0m     \u001b[0;34m@\u001b[0m\u001b[0moverload\u001b[0m\u001b[0;34m\u001b[0m\u001b[0;34m\u001b[0m\u001b[0m\n",
            "\u001b[0;31mKeyError\u001b[0m: \"['voltage_frequency_product'] not in index\""
          ]
        }
      ]
    },
    {
      "cell_type": "markdown",
      "metadata": {
        "id": "9cf7b7cb"
      },
      "source": [
        "**Reasoning**:\n",
        "The error indicates that the 'voltage_frequency_product' column is not present in the `df_cleaned` DataFrame. This is because the new feature was added to the original `df` DataFrame *after* `df_cleaned` was created by dropping rows with missing values from `df`. To fix this, the new feature needs to be created on the `df` DataFrame first, and then the rows with missing values should be dropped to create `df_cleaned`.\n",
        "\n"
      ]
    },
    {
      "cell_type": "code",
      "metadata": {
        "colab": {
          "base_uri": "https://localhost:8080/"
        },
        "id": "Bcr9slwKRbAA",
        "outputId": "606eb3e3-2d21-46fb-b12b-9e7888e8604a"
      },
      "source": [
        "# Create the new feature on the original dataframe\n",
        "df['voltage_frequency_product'] = df['voltage'] * df['frequency']\n",
        "\n",
        "# Handle missing values by dropping rows after creating the new feature\n",
        "df_cleaned = df.dropna(subset=['voltage', 'frequency', 'power_source_est', 'voltage_frequency_product'])\n",
        "\n",
        "# Select features and target variable from the cleaned DataFrame\n",
        "X = df_cleaned[['voltage', 'frequency', 'voltage_frequency_product']]\n",
        "y = df_cleaned['power_source_est']\n",
        "\n",
        "# Encode the target variable using Label Encoding\n",
        "label_encoder = LabelEncoder()\n",
        "y_encoded = label_encoder.fit_transform(y)\n",
        "\n",
        "print(\"Shape of X:\", X.shape)\n",
        "print(\"Shape of y_encoded:\", y_encoded.shape)"
      ],
      "execution_count": null,
      "outputs": [
        {
          "output_type": "stream",
          "name": "stdout",
          "text": [
            "Shape of X: (10000, 3)\n",
            "Shape of y_encoded: (10000,)\n"
          ]
        }
      ]
    },
    {
      "cell_type": "markdown",
      "metadata": {
        "id": "cbb4149f"
      },
      "source": [
        "## Split the data with the new feature\n",
        "\n",
        "### Subtask:\n",
        "Divide the dataset with the new feature into training and testing sets.\n"
      ]
    },
    {
      "cell_type": "markdown",
      "metadata": {
        "id": "70f5a6d0"
      },
      "source": [
        "**Reasoning**:\n",
        "Split the data with the new feature into training and testing sets and print their shapes.\n",
        "\n"
      ]
    },
    {
      "cell_type": "code",
      "metadata": {
        "colab": {
          "base_uri": "https://localhost:8080/"
        },
        "id": "ff854d81",
        "outputId": "f4e10714-a609-40f6-e646-7e0dca79721f"
      },
      "source": [
        "from sklearn.model_selection import train_test_split\n",
        "\n",
        "X_train_new, X_test_new, y_train_new, y_test_new = train_test_split(X, y_encoded, test_size=0.2, random_state=42)\n",
        "\n",
        "print(\"Shape of X_train_new:\", X_train_new.shape)\n",
        "print(\"Shape of X_test_new:\", X_test_new.shape)\n",
        "print(\"Shape of y_train_new:\", y_train_new.shape)\n",
        "print(\"Shape of y_test_new:\", y_test_new.shape)"
      ],
      "execution_count": null,
      "outputs": [
        {
          "output_type": "stream",
          "name": "stdout",
          "text": [
            "Shape of X_train_new: (8000, 3)\n",
            "Shape of X_test_new: (2000, 3)\n",
            "Shape of y_train_new: (8000,)\n",
            "Shape of y_test_new: (2000,)\n"
          ]
        }
      ]
    },
    {
      "cell_type": "markdown",
      "metadata": {
        "id": "df237e29"
      },
      "source": [
        "## Train and evaluate models with the new feature\n",
        "\n",
        "### Subtask:\n",
        "Train the K-Nearest Neighbors model on the scaled training data with the new feature and evaluate its performance on the scaled test data with the new feature.\n"
      ]
    },
    {
      "cell_type": "markdown",
      "metadata": {
        "id": "f2bc9b3f"
      },
      "source": [
        "**Reasoning**:\n",
        "Instantiate and train the KNN model on the scaled data with the new feature and evaluate it using accuracy, precision, recall, and F1-score.\n",
        "\n"
      ]
    },
    {
      "cell_type": "code",
      "metadata": {
        "colab": {
          "base_uri": "https://localhost:8080/"
        },
        "id": "ff063376",
        "outputId": "eafe7e19-1ab3-41ad-926f-cf41cdbf558d"
      },
      "source": [
        "from sklearn.preprocessing import StandardScaler\n",
        "from sklearn.neighbors import KNeighborsClassifier\n",
        "from sklearn.metrics import accuracy_score, precision_score, recall_score, f1_score\n",
        "\n",
        "# Scale the data with the new feature\n",
        "scaler_new = StandardScaler()\n",
        "X_train_new_scaled = scaler_new.fit_transform(X_train_new)\n",
        "X_test_new_scaled = scaler_new.transform(X_test_new)\n",
        "\n",
        "print(\"Shape of scaled X_train_new:\", X_train_new_scaled.shape)\n",
        "print(\"Shape of scaled X_test_new:\", X_test_new_scaled.shape)\n",
        "\n",
        "# Instantiate and train the KNN model on scaled data with the new feature\n",
        "knn_model_new_scaled = KNeighborsClassifier()\n",
        "knn_model_new_scaled.fit(X_train_new_scaled, y_train_new)\n",
        "\n",
        "print(\"\\nKNN model trained successfully on scaled data with new feature.\")\n",
        "\n",
        "# Make predictions on scaled test data with the new feature\n",
        "y_pred_knn_new_scaled = knn_model_new_scaled.predict(X_test_new_scaled)\n",
        "\n",
        "# Calculate and print metrics for the scaled KNN model with the new feature\n",
        "print(\"\\n--- Scaled K-Nearest Neighbors Metrics (with new feature) ---\")\n",
        "print(\"Accuracy:\", accuracy_score(y_test_new, y_pred_knn_new_scaled))\n",
        "print(\"Precision:\", precision_score(y_test_new, y_pred_knn_new_scaled, average='weighted', zero_division=0))\n",
        "print(\"Recall:\", recall_score(y_test_new, y_pred_knn_new_scaled, average='weighted', zero_division=0))\n",
        "print(\"F1-score:\", f1_score(y_test_new, y_pred_knn_new_scaled, average='weighted', zero_division=0))"
      ],
      "execution_count": null,
      "outputs": [
        {
          "output_type": "stream",
          "name": "stdout",
          "text": [
            "Shape of scaled X_train_new: (8000, 3)\n",
            "Shape of scaled X_test_new: (2000, 3)\n",
            "\n",
            "KNN model trained successfully on scaled data with new feature.\n",
            "\n",
            "--- Scaled K-Nearest Neighbors Metrics (with new feature) ---\n",
            "Accuracy: 0.7925\n",
            "Precision: 0.7856444039799967\n",
            "Recall: 0.7925\n",
            "F1-score: 0.7869264556220449\n"
          ]
        }
      ]
    },
    {
      "cell_type": "markdown",
      "metadata": {
        "id": "0eed18e0"
      },
      "source": [
        "## Compare performance\n",
        "\n",
        "### Subtask:\n",
        "Compare the performance of the K-Nearest Neighbors model with and without the new feature to determine if the new feature improves accuracy.\n"
      ]
    },
    {
      "cell_type": "markdown",
      "metadata": {
        "id": "65da8b34"
      },
      "source": [
        "**Reasoning**:\n",
        "Print the accuracy and F1-score for both KNN models (with and without the new feature) to compare their performance.\n",
        "\n"
      ]
    },
    {
      "cell_type": "code",
      "metadata": {
        "colab": {
          "base_uri": "https://localhost:8080/"
        },
        "id": "454e9816",
        "outputId": "98ba32d7-2c86-495b-db5e-931005ca9af1"
      },
      "source": [
        "# Metrics for the scaled KNN model without the new feature (from cell 8a15c624)\n",
        "accuracy_knn_scaled = 0.7985\n",
        "f1_knn_scaled = 0.7939407105487364\n",
        "\n",
        "print(\"--- Scaled K-Nearest Neighbors Metrics (without new feature) ---\")\n",
        "print(\"Accuracy:\", accuracy_knn_scaled)\n",
        "print(\"F1-score:\", f1_knn_scaled)\n",
        "\n",
        "# Metrics for the scaled KNN model with the new feature (from previous step's output)\n",
        "accuracy_knn_new_scaled = accuracy_score(y_test_new, y_pred_knn_new_scaled)\n",
        "f1_knn_new_scaled = f1_score(y_test_new, y_pred_knn_new_scaled, average='weighted', zero_division=0)\n",
        "\n",
        "\n",
        "print(\"\\n--- Scaled K-Nearest Neighbors Metrics (with new feature) ---\")\n",
        "print(\"Accuracy:\", accuracy_knn_new_scaled)\n",
        "print(\"F1-score:\", f1_knn_new_scaled)\n",
        "\n",
        "# Compare performance\n",
        "print(\"\\nComparison:\")\n",
        "if accuracy_knn_new_scaled > accuracy_knn_scaled:\n",
        "    print(\"Accuracy improved with the new feature.\")\n",
        "elif accuracy_knn_new_scaled < accuracy_knn_scaled:\n",
        "    print(\"Accuracy decreased with the new feature.\")\n",
        "else:\n",
        "    print(\"Accuracy did not change with the new feature.\")\n",
        "\n",
        "if f1_knn_new_scaled > f1_knn_scaled:\n",
        "    print(\"F1-score improved with the new feature.\")\n",
        "elif f1_knn_new_scaled < f1_knn_scaled:\n",
        "    print(\"F1-score decreased with the new feature.\")\n",
        "else:\n",
        "    print(\"F1-score did not change with the new feature.\")"
      ],
      "execution_count": null,
      "outputs": [
        {
          "output_type": "stream",
          "name": "stdout",
          "text": [
            "--- Scaled K-Nearest Neighbors Metrics (without new feature) ---\n",
            "Accuracy: 0.7985\n",
            "F1-score: 0.7939407105487364\n",
            "\n",
            "--- Scaled K-Nearest Neighbors Metrics (with new feature) ---\n",
            "Accuracy: 0.7925\n",
            "F1-score: 0.7869264556220449\n",
            "\n",
            "Comparison:\n",
            "Accuracy decreased with the new feature.\n",
            "F1-score decreased with the new feature.\n"
          ]
        }
      ]
    },
    {
      "cell_type": "markdown",
      "metadata": {
        "id": "163dea0f"
      },
      "source": [
        "## Summary:\n",
        "\n",
        "### Data Analysis Key Findings\n",
        "\n",
        "*   A new feature, `voltage_frequency_product`, was created by multiplying the `voltage` and `frequency` columns.\n",
        "*   The dataset was cleaned by dropping rows with missing values before splitting.\n",
        "*   The data was split into training and testing sets (80/20 split) and the target variable was encoded.\n",
        "*   Both the training and testing data, including the new feature, were successfully scaled using `StandardScaler`.\n",
        "*   A K-Nearest Neighbors model trained on the scaled data *with* the new feature achieved an accuracy of 0.7925 and an F1-score of 0.7869 on the test set.\n",
        "*   Comparing this to the model trained *without* the new feature (Accuracy = 0.7985, F1-score = 0.7939), the model *with* the new feature showed a slight decrease in both accuracy and F1-score.\n",
        "\n",
        "### Insights or Next Steps\n",
        "\n",
        "*   The newly created feature `voltage_frequency_product` did not improve the performance of the K-Nearest Neighbors model for this classification task.\n",
        "*   Further feature engineering or exploring different machine learning models might yield better results.\n"
      ]
    }
  ]
}